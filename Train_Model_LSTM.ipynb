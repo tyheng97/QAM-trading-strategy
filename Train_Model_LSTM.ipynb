{
  "nbformat": 4,
  "nbformat_minor": 0,
  "metadata": {
    "colab": {
      "name": "Train_Model_LSTM.ipynb",
      "provenance": [],
      "collapsed_sections": [],
      "toc_visible": true
    },
    "kernelspec": {
      "name": "python3",
      "display_name": "Python 3"
    },
    "language_info": {
      "name": "python"
    },
    "accelerator": "GPU"
  },
  "cells": [
    {
      "cell_type": "code",
      "metadata": {
        "id": "sJXMfYjwNHWu"
      },
      "source": [
        "#Import the libraries\n",
        "import pandas as pd\n",
        "import numpy as np\n",
        "import pandas_datareader as web\n",
        "import datetime as dt\n",
        "import matplotlib.pyplot as plt\n",
        "plt.style.use('fivethirtyeight')"
      ],
      "execution_count": 60,
      "outputs": []
    },
    {
      "cell_type": "code",
      "metadata": {
        "colab": {
          "base_uri": "https://localhost:8080/",
          "height": 450
        },
        "id": "A2SUE1ytNNXW",
        "outputId": "e646aa38-ff94-4d6b-9592-462e05bf04ed"
      },
      "source": [
        "#Get the data from yahoo finance\n",
        "stock_ticker = 'FB'\n",
        "\n",
        "\n",
        "# test = 1 -> time period 2000 to 2020\n",
        "# test = 0 -> 2021 to now\n",
        "def get_data(ticker, test):\n",
        "    if test == 0:\n",
        "      start = dt.datetime(2021, 1, 1)\n",
        "      end = dt.datetime.now()\n",
        "    else:\n",
        "      start = dt.datetime(2000, 1, 1)\n",
        "      end = dt.datetime(2020, 12, 31)\n",
        "    \n",
        "    df = web.DataReader(ticker,'yahoo', start, end)\n",
        "    # Create Categorical Input 'Price Change' (Rise = 1, Fall = 0) from previous row Adj Close\n",
        "    df['Price Change'] = df['Adj Close'].diff()\n",
        "    df.loc[df['Price Change'] <= 0, 'Price Change'] = 0\n",
        "    df.loc[df['Price Change'] > 0, 'Price Change'] = 1\n",
        "    #remove the first row as price change is nan\n",
        "    df = df[1:]\n",
        "    return df\n",
        "\n",
        "df = get_data(stock_ticker,1)\n",
        "df"
      ],
      "execution_count": 61,
      "outputs": [
        {
          "output_type": "execute_result",
          "data": {
            "text/html": [
              "<div>\n",
              "<style scoped>\n",
              "    .dataframe tbody tr th:only-of-type {\n",
              "        vertical-align: middle;\n",
              "    }\n",
              "\n",
              "    .dataframe tbody tr th {\n",
              "        vertical-align: top;\n",
              "    }\n",
              "\n",
              "    .dataframe thead th {\n",
              "        text-align: right;\n",
              "    }\n",
              "</style>\n",
              "<table border=\"1\" class=\"dataframe\">\n",
              "  <thead>\n",
              "    <tr style=\"text-align: right;\">\n",
              "      <th></th>\n",
              "      <th>High</th>\n",
              "      <th>Low</th>\n",
              "      <th>Open</th>\n",
              "      <th>Close</th>\n",
              "      <th>Volume</th>\n",
              "      <th>Adj Close</th>\n",
              "      <th>Price Change</th>\n",
              "    </tr>\n",
              "    <tr>\n",
              "      <th>Date</th>\n",
              "      <th></th>\n",
              "      <th></th>\n",
              "      <th></th>\n",
              "      <th></th>\n",
              "      <th></th>\n",
              "      <th></th>\n",
              "      <th></th>\n",
              "    </tr>\n",
              "  </thead>\n",
              "  <tbody>\n",
              "    <tr>\n",
              "      <th>2012-05-21</th>\n",
              "      <td>36.660000</td>\n",
              "      <td>33.000000</td>\n",
              "      <td>36.529999</td>\n",
              "      <td>34.029999</td>\n",
              "      <td>168192700</td>\n",
              "      <td>34.029999</td>\n",
              "      <td>0.0</td>\n",
              "    </tr>\n",
              "    <tr>\n",
              "      <th>2012-05-22</th>\n",
              "      <td>33.590000</td>\n",
              "      <td>30.940001</td>\n",
              "      <td>32.610001</td>\n",
              "      <td>31.000000</td>\n",
              "      <td>101786600</td>\n",
              "      <td>31.000000</td>\n",
              "      <td>0.0</td>\n",
              "    </tr>\n",
              "    <tr>\n",
              "      <th>2012-05-23</th>\n",
              "      <td>32.500000</td>\n",
              "      <td>31.360001</td>\n",
              "      <td>31.370001</td>\n",
              "      <td>32.000000</td>\n",
              "      <td>73600000</td>\n",
              "      <td>32.000000</td>\n",
              "      <td>1.0</td>\n",
              "    </tr>\n",
              "    <tr>\n",
              "      <th>2012-05-24</th>\n",
              "      <td>33.209999</td>\n",
              "      <td>31.770000</td>\n",
              "      <td>32.950001</td>\n",
              "      <td>33.029999</td>\n",
              "      <td>50237200</td>\n",
              "      <td>33.029999</td>\n",
              "      <td>1.0</td>\n",
              "    </tr>\n",
              "    <tr>\n",
              "      <th>2012-05-25</th>\n",
              "      <td>32.950001</td>\n",
              "      <td>31.110001</td>\n",
              "      <td>32.900002</td>\n",
              "      <td>31.910000</td>\n",
              "      <td>37149800</td>\n",
              "      <td>31.910000</td>\n",
              "      <td>0.0</td>\n",
              "    </tr>\n",
              "    <tr>\n",
              "      <th>...</th>\n",
              "      <td>...</td>\n",
              "      <td>...</td>\n",
              "      <td>...</td>\n",
              "      <td>...</td>\n",
              "      <td>...</td>\n",
              "      <td>...</td>\n",
              "      <td>...</td>\n",
              "    </tr>\n",
              "    <tr>\n",
              "      <th>2020-12-24</th>\n",
              "      <td>270.399994</td>\n",
              "      <td>266.200012</td>\n",
              "      <td>268.880005</td>\n",
              "      <td>267.399994</td>\n",
              "      <td>6702000</td>\n",
              "      <td>267.399994</td>\n",
              "      <td>0.0</td>\n",
              "    </tr>\n",
              "    <tr>\n",
              "      <th>2020-12-28</th>\n",
              "      <td>277.299988</td>\n",
              "      <td>265.660004</td>\n",
              "      <td>268.739990</td>\n",
              "      <td>277.000000</td>\n",
              "      <td>23299700</td>\n",
              "      <td>277.000000</td>\n",
              "      <td>1.0</td>\n",
              "    </tr>\n",
              "    <tr>\n",
              "      <th>2020-12-29</th>\n",
              "      <td>280.510010</td>\n",
              "      <td>276.279999</td>\n",
              "      <td>276.950012</td>\n",
              "      <td>276.779999</td>\n",
              "      <td>16383000</td>\n",
              "      <td>276.779999</td>\n",
              "      <td>0.0</td>\n",
              "    </tr>\n",
              "    <tr>\n",
              "      <th>2020-12-30</th>\n",
              "      <td>278.079987</td>\n",
              "      <td>271.709991</td>\n",
              "      <td>277.950012</td>\n",
              "      <td>271.869995</td>\n",
              "      <td>11803800</td>\n",
              "      <td>271.869995</td>\n",
              "      <td>0.0</td>\n",
              "    </tr>\n",
              "    <tr>\n",
              "      <th>2020-12-31</th>\n",
              "      <td>277.089996</td>\n",
              "      <td>269.809998</td>\n",
              "      <td>272.000000</td>\n",
              "      <td>273.160004</td>\n",
              "      <td>12900400</td>\n",
              "      <td>273.160004</td>\n",
              "      <td>1.0</td>\n",
              "    </tr>\n",
              "  </tbody>\n",
              "</table>\n",
              "<p>2169 rows × 7 columns</p>\n",
              "</div>"
            ],
            "text/plain": [
              "                  High         Low  ...   Adj Close  Price Change\n",
              "Date                                ...                          \n",
              "2012-05-21   36.660000   33.000000  ...   34.029999           0.0\n",
              "2012-05-22   33.590000   30.940001  ...   31.000000           0.0\n",
              "2012-05-23   32.500000   31.360001  ...   32.000000           1.0\n",
              "2012-05-24   33.209999   31.770000  ...   33.029999           1.0\n",
              "2012-05-25   32.950001   31.110001  ...   31.910000           0.0\n",
              "...                ...         ...  ...         ...           ...\n",
              "2020-12-24  270.399994  266.200012  ...  267.399994           0.0\n",
              "2020-12-28  277.299988  265.660004  ...  277.000000           1.0\n",
              "2020-12-29  280.510010  276.279999  ...  276.779999           0.0\n",
              "2020-12-30  278.079987  271.709991  ...  271.869995           0.0\n",
              "2020-12-31  277.089996  269.809998  ...  273.160004           1.0\n",
              "\n",
              "[2169 rows x 7 columns]"
            ]
          },
          "metadata": {
            "tags": []
          },
          "execution_count": 61
        }
      ]
    },
    {
      "cell_type": "code",
      "metadata": {
        "colab": {
          "base_uri": "https://localhost:8080/",
          "height": 354
        },
        "id": "tDSIsqcqNNch",
        "outputId": "697cfd12-835f-446d-e79b-a54021dad143"
      },
      "source": [
        "#visualize the data\n",
        "plt.figure(figsize=(12.5,4.5))\n",
        "plt.plot(df['Adj Close'], label = stock_ticker)\n",
        "\n",
        "plt.title('Adj Close Price ' + stock_ticker)\n",
        "plt.xlabel('Time Period')\n",
        "plt.ylabel('Adj close price USD($)')\n",
        "plt.legend(loc = 'upper left')\n",
        "plt.show()"
      ],
      "execution_count": 62,
      "outputs": [
        {
          "output_type": "display_data",
          "data": {
            "image/png": "[encoded data removed]",
            "text/plain": [
              "<Figure size 900x324 with 1 Axes>"
            ]
          },
          "metadata": {
            "tags": []
          }
        }
      ]
    },
    {
      "cell_type": "code",
      "metadata": {
        "id": "Rm_xsE3qO1M9"
      },
      "source": [
        "# Remove all non number\n",
        "for col in df.columns: \n",
        "  df=df[pd.to_numeric(df[col], errors='coerce').notnull()]\n",
        "# Remove NA\n",
        "df = df.dropna()"
      ],
      "execution_count": 63,
      "outputs": []
    },
    {
      "cell_type": "markdown",
      "metadata": {
        "id": "4fP1ITeMNU4j"
      },
      "source": [
        "#Preprocess data to fit into LSTM Model"
      ]
    },
    {
      "cell_type": "code",
      "metadata": {
        "colab": {
          "base_uri": "https://localhost:8080/"
        },
        "id": "uqPyjHreXoaB",
        "outputId": "55c25a15-1af9-4be4-e437-23580d5923df"
      },
      "source": [
        "# prepare data for lstm\n",
        " \n",
        "# convert series to supervised learning\n",
        "def series_to_supervised(data, n_in=1, n_out=1, dropnan=True):\n",
        "    n_vars = 1 if type(data) is list else data.shape[1]\n",
        "    df = pd.DataFrame(data)\n",
        "    cols, names = list(), list()\n",
        "    # input sequence (t-n, ... t-1)\n",
        "    for i in range(n_in, 0, -1):\n",
        "        cols.append(df.shift(i))\n",
        "        names += [('var%d(t-%d)' % (j+1, i)) for j in range(n_vars)]\n",
        "    # forecast sequence (t, t+1, ... t+n)\n",
        "    for i in range(0, n_out):\n",
        "        cols.append(df.shift(-i))\n",
        "        if i == 0:\n",
        "            names += [('var%d(t)' % (j+1)) for j in range(n_vars)]\n",
        "        else:\n",
        "            names += [('var%d(t+%d)' % (j+1, i)) for j in range(n_vars)]\n",
        "    # put it all together\n",
        "    agg = pd.concat(cols, axis=1)\n",
        "    agg.columns = names\n",
        "    # drop rows with NaN values\n",
        "    if dropnan:\n",
        "        agg.dropna(inplace=True)\n",
        "    return agg\n",
        " \n",
        "# load dataset\n",
        "values = df.values\n",
        "\n",
        "# ensure all data is float\n",
        "values = values.astype('float32')\n",
        "\n",
        "# frame as supervised learning\n",
        "reframed = series_to_supervised(values, 1, 1)\n",
        "reframed.drop(reframed.columns[[10,9,8,7,11,12]], axis=1, inplace=True)\n",
        "print(reframed.head())\n",
        "values = reframed.values\n",
        "values"
      ],
      "execution_count": 64,
      "outputs": [
        {
          "output_type": "stream",
          "text": [
            "   var1(t-1)  var2(t-1)  var3(t-1)  ...  var6(t-1)  var7(t-1)  var7(t)\n",
            "1  36.660000  33.000000  36.529999  ...  34.029999        0.0      0.0\n",
            "2  33.590000  30.940001  32.610001  ...  31.000000        0.0      1.0\n",
            "3  32.500000  31.360001  31.370001  ...  32.000000        1.0      1.0\n",
            "4  33.209999  31.770000  32.950001  ...  33.029999        1.0      0.0\n",
            "5  32.950001  31.110001  32.900002  ...  31.910000        0.0      0.0\n",
            "\n",
            "[5 rows x 8 columns]\n"
          ],
          "name": "stdout"
        },
        {
          "output_type": "execute_result",
          "data": {
            "text/plain": [
              "array([[ 36.66,  33.  ,  36.53, ...,  34.03,   0.  ,   0.  ],\n",
              "       [ 33.59,  30.94,  32.61, ...,  31.  ,   0.  ,   1.  ],\n",
              "       [ 32.5 ,  31.36,  31.37, ...,  32.  ,   1.  ,   1.  ],\n",
              "       ...,\n",
              "       [277.3 , 265.66, 268.74, ..., 277.  ,   1.  ,   0.  ],\n",
              "       [280.51, 276.28, 276.95, ..., 276.78,   0.  ,   0.  ],\n",
              "       [278.08, 271.71, 277.95, ..., 271.87,   0.  ,   1.  ]],\n",
              "      dtype=float32)"
            ]
          },
          "metadata": {
            "tags": []
          },
          "execution_count": 64
        }
      ]
    },
    {
      "cell_type": "code",
      "metadata": {
        "colab": {
          "base_uri": "https://localhost:8080/"
        },
        "id": "sjDCpDE5NLmu",
        "outputId": "f72ce5b3-32c6-4c0c-c055-9b90964dcc81"
      },
      "source": [
        "# ensure all data is float\n",
        "values = values.astype('float32')\n",
        "\n",
        "# split into train and test sets (80% train)\n",
        "train_size = round(0.8 * len(values))\n",
        "train = values[:train_size, :]\n",
        "test = values[train_size:, :]\n",
        "\n",
        "# split into input and outputs (last column is Y)\n",
        "train_X, train_y = train[:, :-1], train[:, -1]\n",
        "print(train_X[:3])\n",
        "print(train_y[:3])\n",
        "test_X, test_y = test[:, :-1], test[:, -1]\n",
        "\n",
        "# preprocess\n",
        "from sklearn import preprocessing\n",
        "\n",
        "scaler = preprocessing.StandardScaler().fit(train_X)\n",
        "train_X = scaler.transform(train_X)\n",
        "test_X = scaler.transform(test_X) \n",
        "\n",
        "# reshape input to be 3D [samples, timesteps, features]\n",
        "train_X = train_X.reshape((train_X.shape[0], 1, train_X.shape[1]))\n",
        "test_X = test_X.reshape((test_X.shape[0], 1, test_X.shape[1]))\n",
        "print(train_X.shape, train_y.shape, test_X.shape, test_y.shape)\n"
      ],
      "execution_count": 65,
      "outputs": [
        {
          "output_type": "stream",
          "text": [
            "[[3.666000e+01 3.300000e+01 3.653000e+01 3.403000e+01 1.681927e+08\n",
            "  3.403000e+01 0.000000e+00]\n",
            " [3.359000e+01 3.094000e+01 3.261000e+01 3.100000e+01 1.017866e+08\n",
            "  3.100000e+01 0.000000e+00]\n",
            " [3.250000e+01 3.136000e+01 3.137000e+01 3.200000e+01 7.360000e+07\n",
            "  3.200000e+01 1.000000e+00]]\n",
            "[0. 1. 1.]\n",
            "(1734, 1, 7) (1734,) (434, 1, 7) (434,)\n"
          ],
          "name": "stdout"
        }
      ]
    },
    {
      "cell_type": "code",
      "metadata": {
        "colab": {
          "base_uri": "https://localhost:8080/",
          "height": 1000
        },
        "id": "CdMRdoM1NLIW",
        "outputId": "0c9bf7cd-b4e5-45a9-ddec-d1b0f14b5eae"
      },
      "source": [
        "from sklearn.metrics import mean_squared_error\n",
        "from keras.models import Sequential\n",
        "from keras.layers import Dense\n",
        "from keras.layers import LSTM\n",
        "from keras.layers import BatchNormalization\n",
        "from keras.layers import Bidirectional\n",
        "from keras.layers import Dropout\n",
        "\n",
        "# design network\n",
        "model = Sequential()\n",
        "model.add(LSTM(128, return_sequences= True, input_shape=(train_X.shape[1], train_X.shape[2])))\n",
        "model.add(BatchNormalization())\n",
        "model.add(Dropout(0.2))\n",
        "model.add(Bidirectional(LSTM(64,return_sequences=True)))\n",
        "model.add(BatchNormalization())\n",
        "model.add(Dropout(0.2))\n",
        "model.add(Bidirectional(LSTM(32)))\n",
        "model.add(BatchNormalization())\n",
        "model.add(Dense(16))\n",
        "model.add(Dense(8))\n",
        "model.add(Dense(1))\n",
        "model.compile(loss='Huber', optimizer='adam')\n",
        "# fit network\n",
        "history = model.fit(train_X, train_y, epochs=100, batch_size=20, validation_data=(test_X, test_y), verbose=2, shuffle=True)\n",
        "# plot history\n",
        "plt.plot(history.history['loss'], label='train')\n",
        "plt.plot(history.history['val_loss'], label='test')\n",
        "plt.legend()\n",
        "plt.show()"
      ],
      "execution_count": 66,
      "outputs": [
        {
          "output_type": "stream",
          "text": [
            "Epoch 1/100\n",
            "87/87 - 9s - loss: 0.3563 - val_loss: 0.1252\n",
            "Epoch 2/100\n",
            "87/87 - 1s - loss: 0.1593 - val_loss: 0.1259\n",
            "Epoch 3/100\n",
            "87/87 - 1s - loss: 0.1429 - val_loss: 0.1265\n",
            "Epoch 4/100\n",
            "87/87 - 1s - loss: 0.1366 - val_loss: 0.1247\n",
            "Epoch 5/100\n",
            "87/87 - 1s - loss: 0.1333 - val_loss: 0.1275\n",
            "Epoch 6/100\n",
            "87/87 - 1s - loss: 0.1328 - val_loss: 0.1283\n",
            "Epoch 7/100\n",
            "87/87 - 1s - loss: 0.1294 - val_loss: 0.1285\n",
            "Epoch 8/100\n",
            "87/87 - 1s - loss: 0.1294 - val_loss: 0.1286\n",
            "Epoch 9/100\n",
            "87/87 - 1s - loss: 0.1277 - val_loss: 0.1409\n",
            "Epoch 10/100\n",
            "87/87 - 1s - loss: 0.1261 - val_loss: 0.1274\n",
            "Epoch 11/100\n",
            "87/87 - 1s - loss: 0.1277 - val_loss: 0.1289\n",
            "Epoch 12/100\n",
            "87/87 - 1s - loss: 0.1262 - val_loss: 0.1338\n",
            "Epoch 13/100\n",
            "87/87 - 1s - loss: 0.1258 - val_loss: 0.1271\n",
            "Epoch 14/100\n",
            "87/87 - 1s - loss: 0.1270 - val_loss: 0.1616\n",
            "Epoch 15/100\n",
            "87/87 - 1s - loss: 0.1262 - val_loss: 0.1287\n",
            "Epoch 16/100\n",
            "87/87 - 1s - loss: 0.1275 - val_loss: 0.1295\n",
            "Epoch 17/100\n",
            "87/87 - 1s - loss: 0.1255 - val_loss: 0.1256\n",
            "Epoch 18/100\n",
            "87/87 - 1s - loss: 0.1256 - val_loss: 0.1407\n",
            "Epoch 19/100\n",
            "87/87 - 1s - loss: 0.1253 - val_loss: 0.1260\n",
            "Epoch 20/100\n",
            "87/87 - 1s - loss: 0.1260 - val_loss: 0.1256\n",
            "Epoch 21/100\n",
            "87/87 - 1s - loss: 0.1258 - val_loss: 0.1268\n",
            "Epoch 22/100\n",
            "87/87 - 1s - loss: 0.1251 - val_loss: 0.1285\n",
            "Epoch 23/100\n",
            "87/87 - 1s - loss: 0.1255 - val_loss: 0.1263\n",
            "Epoch 24/100\n",
            "87/87 - 1s - loss: 0.1246 - val_loss: 0.1300\n",
            "Epoch 25/100\n",
            "87/87 - 1s - loss: 0.1248 - val_loss: 0.1268\n",
            "Epoch 26/100\n",
            "87/87 - 1s - loss: 0.1247 - val_loss: 0.1264\n",
            "Epoch 27/100\n",
            "87/87 - 1s - loss: 0.1249 - val_loss: 0.1268\n",
            "Epoch 28/100\n",
            "87/87 - 1s - loss: 0.1253 - val_loss: 0.1279\n",
            "Epoch 29/100\n",
            "87/87 - 1s - loss: 0.1243 - val_loss: 0.1254\n",
            "Epoch 30/100\n",
            "87/87 - 1s - loss: 0.1250 - val_loss: 0.1263\n",
            "Epoch 31/100\n",
            "87/87 - 1s - loss: 0.1245 - val_loss: 0.1252\n",
            "Epoch 32/100\n",
            "87/87 - 1s - loss: 0.1249 - val_loss: 0.1246\n",
            "Epoch 33/100\n",
            "87/87 - 1s - loss: 0.1251 - val_loss: 0.1248\n",
            "Epoch 34/100\n",
            "87/87 - 1s - loss: 0.1248 - val_loss: 0.1272\n",
            "Epoch 35/100\n",
            "87/87 - 1s - loss: 0.1239 - val_loss: 0.1286\n",
            "Epoch 36/100\n",
            "87/87 - 1s - loss: 0.1250 - val_loss: 0.1267\n",
            "Epoch 37/100\n",
            "87/87 - 1s - loss: 0.1246 - val_loss: 0.1281\n",
            "Epoch 38/100\n",
            "87/87 - 1s - loss: 0.1247 - val_loss: 0.1301\n",
            "Epoch 39/100\n",
            "87/87 - 1s - loss: 0.1246 - val_loss: 0.1327\n",
            "Epoch 40/100\n",
            "87/87 - 1s - loss: 0.1247 - val_loss: 0.1250\n",
            "Epoch 41/100\n",
            "87/87 - 1s - loss: 0.1245 - val_loss: 0.1247\n",
            "Epoch 42/100\n",
            "87/87 - 1s - loss: 0.1249 - val_loss: 0.1285\n",
            "Epoch 43/100\n",
            "87/87 - 1s - loss: 0.1245 - val_loss: 0.1270\n",
            "Epoch 44/100\n",
            "87/87 - 1s - loss: 0.1247 - val_loss: 0.1258\n",
            "Epoch 45/100\n",
            "87/87 - 1s - loss: 0.1237 - val_loss: 0.1260\n",
            "Epoch 46/100\n",
            "87/87 - 1s - loss: 0.1244 - val_loss: 0.1262\n",
            "Epoch 47/100\n",
            "87/87 - 1s - loss: 0.1235 - val_loss: 0.1286\n",
            "Epoch 48/100\n",
            "87/87 - 1s - loss: 0.1247 - val_loss: 0.1275\n",
            "Epoch 49/100\n",
            "87/87 - 1s - loss: 0.1248 - val_loss: 0.1250\n",
            "Epoch 50/100\n",
            "87/87 - 1s - loss: 0.1245 - val_loss: 0.1262\n",
            "Epoch 51/100\n",
            "87/87 - 1s - loss: 0.1254 - val_loss: 0.1267\n",
            "Epoch 52/100\n",
            "87/87 - 1s - loss: 0.1247 - val_loss: 0.1287\n",
            "Epoch 53/100\n",
            "87/87 - 1s - loss: 0.1240 - val_loss: 0.1250\n",
            "Epoch 54/100\n",
            "87/87 - 1s - loss: 0.1252 - val_loss: 0.1269\n",
            "Epoch 55/100\n",
            "87/87 - 1s - loss: 0.1244 - val_loss: 0.1272\n",
            "Epoch 56/100\n",
            "87/87 - 1s - loss: 0.1248 - val_loss: 0.1256\n",
            "Epoch 57/100\n",
            "87/87 - 1s - loss: 0.1248 - val_loss: 0.1300\n",
            "Epoch 58/100\n",
            "87/87 - 1s - loss: 0.1250 - val_loss: 0.1284\n",
            "Epoch 59/100\n",
            "87/87 - 1s - loss: 0.1245 - val_loss: 0.1259\n",
            "Epoch 60/100\n",
            "87/87 - 1s - loss: 0.1244 - val_loss: 0.1259\n",
            "Epoch 61/100\n",
            "87/87 - 1s - loss: 0.1242 - val_loss: 0.1252\n",
            "Epoch 62/100\n",
            "87/87 - 1s - loss: 0.1237 - val_loss: 0.1299\n",
            "Epoch 63/100\n",
            "87/87 - 1s - loss: 0.1250 - val_loss: 0.1269\n",
            "Epoch 64/100\n",
            "87/87 - 1s - loss: 0.1254 - val_loss: 0.1259\n",
            "Epoch 65/100\n",
            "87/87 - 1s - loss: 0.1242 - val_loss: 0.1288\n",
            "Epoch 66/100\n",
            "87/87 - 1s - loss: 0.1245 - val_loss: 0.1273\n",
            "Epoch 67/100\n",
            "87/87 - 1s - loss: 0.1244 - val_loss: 0.1260\n",
            "Epoch 68/100\n",
            "87/87 - 1s - loss: 0.1250 - val_loss: 0.1260\n",
            "Epoch 69/100\n",
            "87/87 - 1s - loss: 0.1243 - val_loss: 0.1273\n",
            "Epoch 70/100\n",
            "87/87 - 1s - loss: 0.1239 - val_loss: 0.1278\n",
            "Epoch 71/100\n",
            "87/87 - 1s - loss: 0.1246 - val_loss: 0.1247\n",
            "Epoch 72/100\n",
            "87/87 - 1s - loss: 0.1245 - val_loss: 0.1253\n",
            "Epoch 73/100\n",
            "87/87 - 1s - loss: 0.1237 - val_loss: 0.1260\n",
            "Epoch 74/100\n",
            "87/87 - 1s - loss: 0.1251 - val_loss: 0.1253\n",
            "Epoch 75/100\n",
            "87/87 - 1s - loss: 0.1243 - val_loss: 0.1264\n",
            "Epoch 76/100\n",
            "87/87 - 1s - loss: 0.1252 - val_loss: 0.1310\n",
            "Epoch 77/100\n",
            "87/87 - 1s - loss: 0.1243 - val_loss: 0.1293\n",
            "Epoch 78/100\n",
            "87/87 - 1s - loss: 0.1247 - val_loss: 0.1271\n",
            "Epoch 79/100\n",
            "87/87 - 1s - loss: 0.1246 - val_loss: 0.1253\n",
            "Epoch 80/100\n",
            "87/87 - 1s - loss: 0.1244 - val_loss: 0.1268\n",
            "Epoch 81/100\n",
            "87/87 - 1s - loss: 0.1239 - val_loss: 0.1257\n",
            "Epoch 82/100\n",
            "87/87 - 1s - loss: 0.1244 - val_loss: 0.1267\n",
            "Epoch 83/100\n",
            "87/87 - 1s - loss: 0.1244 - val_loss: 0.1254\n",
            "Epoch 84/100\n",
            "87/87 - 1s - loss: 0.1243 - val_loss: 0.1282\n",
            "Epoch 85/100\n",
            "87/87 - 1s - loss: 0.1242 - val_loss: 0.1257\n",
            "Epoch 86/100\n",
            "87/87 - 1s - loss: 0.1244 - val_loss: 0.1278\n",
            "Epoch 87/100\n",
            "87/87 - 1s - loss: 0.1240 - val_loss: 0.1280\n",
            "Epoch 88/100\n",
            "87/87 - 1s - loss: 0.1245 - val_loss: 0.1276\n",
            "Epoch 89/100\n",
            "87/87 - 1s - loss: 0.1246 - val_loss: 0.1276\n",
            "Epoch 90/100\n",
            "87/87 - 1s - loss: 0.1246 - val_loss: 0.1246\n",
            "Epoch 91/100\n",
            "87/87 - 1s - loss: 0.1243 - val_loss: 0.1269\n",
            "Epoch 92/100\n",
            "87/87 - 1s - loss: 0.1241 - val_loss: 0.1257\n",
            "Epoch 93/100\n",
            "87/87 - 1s - loss: 0.1248 - val_loss: 0.1279\n",
            "Epoch 94/100\n",
            "87/87 - 1s - loss: 0.1236 - val_loss: 0.1261\n",
            "Epoch 95/100\n",
            "87/87 - 1s - loss: 0.1247 - val_loss: 0.1256\n",
            "Epoch 96/100\n",
            "87/87 - 1s - loss: 0.1240 - val_loss: 0.1323\n",
            "Epoch 97/100\n",
            "87/87 - 1s - loss: 0.1241 - val_loss: 0.1249\n",
            "Epoch 98/100\n",
            "87/87 - 1s - loss: 0.1251 - val_loss: 0.1257\n",
            "Epoch 99/100\n",
            "87/87 - 1s - loss: 0.1248 - val_loss: 0.1255\n",
            "Epoch 100/100\n",
            "87/87 - 1s - loss: 0.1240 - val_loss: 0.1260\n"
          ],
          "name": "stdout"
        },
        {
          "output_type": "display_data",
          "data": {
            "image/png": "[encoded data removed]",
            "text/plain": [
              "<Figure size 432x288 with 1 Axes>"
            ]
          },
          "metadata": {
            "tags": []
          }
        }
      ]
    },
    {
      "cell_type": "code",
      "metadata": {
        "colab": {
          "base_uri": "https://localhost:8080/"
        },
        "id": "egqFj1_ANLLG",
        "outputId": "b7fa4336-7338-4a51-de00-f57b95e1c61e"
      },
      "source": [
        "import math\n",
        "from sklearn.metrics import confusion_matrix\n",
        "\n",
        "# TRAIN SET\n",
        "yhat = model.predict(train_X)\n",
        "y_pred = (yhat > 0.5)\n",
        "cm = confusion_matrix(train_y, y_pred)\n",
        "acc = (cm[0,0] + cm[1,1]) / sum(sum(cm)) * 100\n",
        "print(\"TrainSet Accuracy %.2f%%\" % acc)\n",
        "\n",
        "# calculate RMSE\n",
        "rmse = math.sqrt(mean_squared_error(train_y, yhat))\n",
        "print('Train RMSE: %.3f' % rmse)\n",
        "\n",
        "\n",
        "\n",
        "# TEST SET\n",
        "yhat = model.predict(test_X)\n",
        "y_pred = (yhat > 0.5)\n",
        "cm = confusion_matrix(test_y, y_pred)\n",
        "acc = (cm[0,0] + cm[1,1]) / sum(sum(cm)) * 100\n",
        "print(\"TestSet Accuracy %.2f%%\" % acc)\n",
        "\n",
        "# calculate RMSE\n",
        "rmse = math.sqrt(mean_squared_error(test_y, yhat))\n",
        "print('Test RMSE: %.3f' % rmse)\n",
        "\n"
      ],
      "execution_count": 67,
      "outputs": [
        {
          "output_type": "stream",
          "text": [
            "TrainSet Accuracy 55.65%\n",
            "Train RMSE: 0.496\n",
            "TestSet Accuracy 53.46%\n",
            "Test RMSE: 0.502\n"
          ],
          "name": "stdout"
        }
      ]
    },
    {
      "cell_type": "markdown",
      "metadata": {
        "id": "oWtvkxxTPTI-"
      },
      "source": [
        "#Backtesting "
      ]
    },
    {
      "cell_type": "code",
      "metadata": {
        "colab": {
          "base_uri": "https://localhost:8080/"
        },
        "id": "9yo3zo9INLQI",
        "outputId": "49e45641-1b9b-4692-9798-1ccb314858ae"
      },
      "source": [
        "# split into input and outputs (last column is Y)\n",
        "df = get_data(stock_ticker, 1)\n",
        "\n",
        "df = df.reset_index()\n",
        "date = pd.DataFrame(df['Date'], columns=['Date'])\n",
        "df.drop('Date', inplace=True, axis=1)\n",
        "values = df.values\n",
        "# preprocess\n",
        "\n",
        "reframed = series_to_supervised(values, 1, 1)\n",
        "reframed.drop(reframed.columns[[10,9,8,7,11,12]], axis=1, inplace=True)\n",
        "values = reframed.values\n",
        "values = values.astype('float32')\n",
        "\n",
        "from sklearn import preprocessing\n",
        "\n",
        "x = values[:,:-1]\n",
        "y = values[:, -1]\n",
        "scaler = preprocessing.StandardScaler().fit(x)\n",
        "x = scaler.transform(x)\n",
        "x = x.reshape((x.shape[0], 1, x.shape[1]))\n",
        "x.shape\n"
      ],
      "execution_count": 68,
      "outputs": [
        {
          "output_type": "execute_result",
          "data": {
            "text/plain": [
              "(2168, 1, 7)"
            ]
          },
          "metadata": {
            "tags": []
          },
          "execution_count": 68
        }
      ]
    },
    {
      "cell_type": "code",
      "metadata": {
        "colab": {
          "base_uri": "https://localhost:8080/",
          "height": 589
        },
        "id": "UmTgZ4d9P45l",
        "outputId": "c595495b-5b14-4eb5-f5b2-aa41472d4102"
      },
      "source": [
        "import math\n",
        "parameter = 0.5\n",
        "# make a prediction\n",
        "yhat = model.predict(x)\n",
        "# store in Results DataFrame\n",
        "results = pd.DataFrame(yhat, columns=['Result'])\n",
        "# calculate RMSE\n",
        "rmse = math.sqrt(mean_squared_error(y, yhat))\n",
        "print('RMSE: %.3f' % rmse)\n",
        "\n",
        "y_pred = (yhat > parameter)\n",
        "cm = confusion_matrix(y, y_pred)\n",
        "acc = (cm[0,0] + cm[1,1]) / sum(sum(cm)) * 100\n",
        "print(\"Accuracy %.2f%%\" % acc)\n",
        "\n",
        "#When predicted is > 0.5, buy at open. sell at close.\n",
        "#Starting Capital $1000\n",
        "#Results\n",
        "\n",
        "capital = 1000\n",
        "\n",
        "results['Open']=df['Open'] #0\n",
        "results['Close'] = df['Close'] #1\n",
        "results['LSTM'] = capital #2\n",
        "results['Buy&Hold'] = capital #3\n",
        "results['Date'] = date['Date']\n",
        "\n",
        "for i in range(1,len(results)):\n",
        "  if (results.iloc[i,0] < parameter):# if less than 0.5, do nothing and retain the previous day capital\n",
        "    results.iloc[i, 3] = results.iloc[i-1,3] \n",
        "  else: # buy at open price with all capital and sell at close\n",
        "    results.iloc[i, 3] = results.iloc[i-1, 3] / results.iloc[i, 1] * results.iloc[i, 2] \n",
        "\n",
        "number_of_shares = capital / results.iloc[0][1]\n",
        "\n",
        "for i in range(1,len(results)):\n",
        "  results.iloc[i,4] = number_of_shares * results.iloc[i,2]\n",
        "\n",
        "profit = number_of_shares*results.iloc[-1][2] - capital\n",
        "\n",
        "\n",
        "final_value = results.iloc[-1][3]\n",
        "alpha = final_value-capital\n",
        "print(\"========================================\")\n",
        "print(\"Initial Capital: $\",capital)\n",
        "print(\"========================================\")\n",
        "print(\"LSTM trading strategy Profits: $%.2f\" % alpha)\n",
        "print(\"Percentage Gain: %.2f%%\" % (alpha/capital*100))\n",
        "#Buy and Hold (Buy at Open price, Sell at Close Price)\n",
        "print(\"========================================\")\n",
        "print(\"Profits from Buy and Hold $%.2f\" % profit)\n",
        "print(\"Percentage Gain: %.2f%%\" % (profit/capital*100))\n",
        "results"
      ],
      "execution_count": 69,
      "outputs": [
        {
          "output_type": "stream",
          "text": [
            "RMSE: 0.500\n",
            "Accuracy 54.61%\n",
            "========================================\n",
            "Initial Capital: $ 1000\n",
            "========================================\n",
            "LSTM trading strategy Profits: $-868.91\n",
            "Percentage Gain: -86.89%\n",
            "========================================\n",
            "Profits from Buy and Hold $6442.38\n",
            "Percentage Gain: 644.24%\n"
          ],
          "name": "stdout"
        },
        {
          "output_type": "execute_result",
          "data": {
            "text/html": [
              "<div>\n",
              "<style scoped>\n",
              "    .dataframe tbody tr th:only-of-type {\n",
              "        vertical-align: middle;\n",
              "    }\n",
              "\n",
              "    .dataframe tbody tr th {\n",
              "        vertical-align: top;\n",
              "    }\n",
              "\n",
              "    .dataframe thead th {\n",
              "        text-align: right;\n",
              "    }\n",
              "</style>\n",
              "<table border=\"1\" class=\"dataframe\">\n",
              "  <thead>\n",
              "    <tr style=\"text-align: right;\">\n",
              "      <th></th>\n",
              "      <th>Result</th>\n",
              "      <th>Open</th>\n",
              "      <th>Close</th>\n",
              "      <th>LSTM</th>\n",
              "      <th>Buy&amp;Hold</th>\n",
              "      <th>Date</th>\n",
              "    </tr>\n",
              "  </thead>\n",
              "  <tbody>\n",
              "    <tr>\n",
              "      <th>0</th>\n",
              "      <td>0.425606</td>\n",
              "      <td>36.529999</td>\n",
              "      <td>34.029999</td>\n",
              "      <td>1000.000000</td>\n",
              "      <td>1000.000000</td>\n",
              "      <td>2012-05-21</td>\n",
              "    </tr>\n",
              "    <tr>\n",
              "      <th>1</th>\n",
              "      <td>0.549596</td>\n",
              "      <td>32.610001</td>\n",
              "      <td>31.000000</td>\n",
              "      <td>950.628624</td>\n",
              "      <td>848.617603</td>\n",
              "      <td>2012-05-22</td>\n",
              "    </tr>\n",
              "    <tr>\n",
              "      <th>2</th>\n",
              "      <td>0.478260</td>\n",
              "      <td>31.370001</td>\n",
              "      <td>32.000000</td>\n",
              "      <td>950.628624</td>\n",
              "      <td>875.992364</td>\n",
              "      <td>2012-05-23</td>\n",
              "    </tr>\n",
              "    <tr>\n",
              "      <th>3</th>\n",
              "      <td>0.486401</td>\n",
              "      <td>32.950001</td>\n",
              "      <td>33.029999</td>\n",
              "      <td>950.628624</td>\n",
              "      <td>904.188335</td>\n",
              "      <td>2012-05-24</td>\n",
              "    </tr>\n",
              "    <tr>\n",
              "      <th>4</th>\n",
              "      <td>0.339035</td>\n",
              "      <td>32.900002</td>\n",
              "      <td>31.910000</td>\n",
              "      <td>950.628624</td>\n",
              "      <td>873.528632</td>\n",
              "      <td>2012-05-25</td>\n",
              "    </tr>\n",
              "    <tr>\n",
              "      <th>...</th>\n",
              "      <td>...</td>\n",
              "      <td>...</td>\n",
              "      <td>...</td>\n",
              "      <td>...</td>\n",
              "      <td>...</td>\n",
              "      <td>...</td>\n",
              "    </tr>\n",
              "    <tr>\n",
              "      <th>2163</th>\n",
              "      <td>0.527460</td>\n",
              "      <td>266.890015</td>\n",
              "      <td>268.109985</td>\n",
              "      <td>130.829597</td>\n",
              "      <td>7339.446874</td>\n",
              "      <td>2020-12-23</td>\n",
              "    </tr>\n",
              "    <tr>\n",
              "      <th>2164</th>\n",
              "      <td>0.595569</td>\n",
              "      <td>268.880005</td>\n",
              "      <td>267.399994</td>\n",
              "      <td>130.109464</td>\n",
              "      <td>7320.011027</td>\n",
              "      <td>2020-12-24</td>\n",
              "    </tr>\n",
              "    <tr>\n",
              "      <th>2165</th>\n",
              "      <td>0.529820</td>\n",
              "      <td>268.739990</td>\n",
              "      <td>277.000000</td>\n",
              "      <td>134.108517</td>\n",
              "      <td>7582.808904</td>\n",
              "      <td>2020-12-28</td>\n",
              "    </tr>\n",
              "    <tr>\n",
              "      <th>2166</th>\n",
              "      <td>0.586142</td>\n",
              "      <td>276.950012</td>\n",
              "      <td>276.779999</td>\n",
              "      <td>134.026191</td>\n",
              "      <td>7576.786423</td>\n",
              "      <td>2020-12-29</td>\n",
              "    </tr>\n",
              "    <tr>\n",
              "      <th>2167</th>\n",
              "      <td>0.590372</td>\n",
              "      <td>277.950012</td>\n",
              "      <td>271.869995</td>\n",
              "      <td>131.094435</td>\n",
              "      <td>7442.376244</td>\n",
              "      <td>2020-12-30</td>\n",
              "    </tr>\n",
              "  </tbody>\n",
              "</table>\n",
              "<p>2168 rows × 6 columns</p>\n",
              "</div>"
            ],
            "text/plain": [
              "        Result        Open       Close         LSTM     Buy&Hold       Date\n",
              "0     0.425606   36.529999   34.029999  1000.000000  1000.000000 2012-05-21\n",
              "1     0.549596   32.610001   31.000000   950.628624   848.617603 2012-05-22\n",
              "2     0.478260   31.370001   32.000000   950.628624   875.992364 2012-05-23\n",
              "3     0.486401   32.950001   33.029999   950.628624   904.188335 2012-05-24\n",
              "4     0.339035   32.900002   31.910000   950.628624   873.528632 2012-05-25\n",
              "...        ...         ...         ...          ...          ...        ...\n",
              "2163  0.527460  266.890015  268.109985   130.829597  7339.446874 2020-12-23\n",
              "2164  0.595569  268.880005  267.399994   130.109464  7320.011027 2020-12-24\n",
              "2165  0.529820  268.739990  277.000000   134.108517  7582.808904 2020-12-28\n",
              "2166  0.586142  276.950012  276.779999   134.026191  7576.786423 2020-12-29\n",
              "2167  0.590372  277.950012  271.869995   131.094435  7442.376244 2020-12-30\n",
              "\n",
              "[2168 rows x 6 columns]"
            ]
          },
          "metadata": {
            "tags": []
          },
          "execution_count": 69
        }
      ]
    },
    {
      "cell_type": "code",
      "metadata": {
        "colab": {
          "base_uri": "https://localhost:8080/",
          "height": 332
        },
        "id": "sexvGoH-CdWC",
        "outputId": "e47ae726-dc61-44d3-c7b7-2f9a7dae3b08"
      },
      "source": [
        "#Visualize Results\n",
        "plt.figure(figsize=(12.5,4.5))\n",
        "plt.plot(results['LSTM'], label='LSTM')\n",
        "plt.plot(results['Buy&Hold'], label='B&H')\n",
        "plt.title('Value of Initial Capital Invested $' + str(capital) +': ' +stock_ticker)\n",
        "\n",
        "\n",
        "plt.legend()\n",
        "plt.show()\n"
      ],
      "execution_count": 70,
      "outputs": [
        {
          "output_type": "display_data",
          "data": {
            "image/png": "[encoded data removed]",
            "text/plain": [
              "<Figure size 900x324 with 1 Axes>"
            ]
          },
          "metadata": {
            "tags": []
          }
        }
      ]
    },
    {
      "cell_type": "code",
      "metadata": {
        "colab": {
          "base_uri": "https://localhost:8080/"
        },
        "id": "GG5RURWsSzoX",
        "outputId": "fad70cf2-c78a-4558-89e5-b87e3d6ece35"
      },
      "source": [
        "if (alpha>profit):\n",
        "  print(\"YES\")\n",
        "else:\n",
        "  print(\"nope\")"
      ],
      "execution_count": 71,
      "outputs": [
        {
          "output_type": "stream",
          "text": [
            "nope\n"
          ],
          "name": "stdout"
        }
      ]
    },
    {
      "cell_type": "markdown",
      "metadata": {
        "id": "rDCye3ZWDoAp"
      },
      "source": [
        "#Test on 2021"
      ]
    },
    {
      "cell_type": "code",
      "metadata": {
        "id": "43OUoQwYhkCH",
        "colab": {
          "base_uri": "https://localhost:8080/"
        },
        "outputId": "075db514-052d-4d6b-9427-cb3effb22eaa"
      },
      "source": [
        "\n",
        "# split into input and outputs (last column is Y)\n",
        "df = get_data(stock_ticker, 0)\n",
        "\n",
        "df = df.reset_index()\n",
        "date = pd.DataFrame(df['Date'], columns=['Date'])\n",
        "df.drop('Date', inplace=True, axis=1)\n",
        "values = df.values\n",
        "# preprocess\n",
        "\n",
        "reframed = series_to_supervised(values, 1, 1)\n",
        "reframed.drop(reframed.columns[[10,9,8,7,11,12]], axis=1, inplace=True)\n",
        "values = reframed.values\n",
        "#values = values.astype('float32')\n",
        "\n",
        "from sklearn import preprocessing\n",
        "\n",
        "x = values[:,:-1]\n",
        "y = values[:, -1]\n",
        "scaler = preprocessing.StandardScaler().fit(x)\n",
        "x = scaler.transform(x)\n",
        "x = x.reshape((x.shape[0], 1, x.shape[1]))\n",
        "x.shape\n",
        "\n",
        "\n",
        "\n",
        "import math\n",
        "# make a prediction\n",
        "yhat = model.predict(x)\n",
        "# store in Results DataFrame\n",
        "results = pd.DataFrame(yhat, columns=['Result'])\n",
        "# calculate RMSE\n",
        "rmse = math.sqrt(mean_squared_error(y, yhat))\n",
        "print('RMSE: %.3f' % rmse)\n",
        "\n",
        "y_pred = (yhat > parameter)\n",
        "cm = confusion_matrix(y, y_pred)\n",
        "acc = (cm[0,0] + cm[1,1]) / sum(sum(cm)) * 100\n",
        "print(\"Accuracy %.2f%%\" % acc)\n",
        "\n",
        "#When predicted is > parameter, buy at open. sell at close.\n",
        "#Starting Capital $1000\n",
        "#Results\n",
        "\n",
        "capital = 1000\n",
        "\n",
        "results['Open']=df['Open']\n",
        "results['Close'] = df['Close']\n",
        "results['LSTM'] = capital\n",
        "results['Buy&Hold'] = capital\n",
        "results['Date'] = date['Date']\n",
        "\n",
        "for i in range(1,len(results)):\n",
        "  if (results.iloc[i,0] < parameter):\n",
        "    results.iloc[i, 3] = results.iloc[i-1,3] #if less than 0.5, do nothing and retain the previous day capital\n",
        "  else:\n",
        "    results.iloc[i, 3] = results.iloc[i-1, 3] / results.iloc[i, 1] * results.iloc[i, 2] #buy at open price with all capital and sell at close\n",
        "\n",
        "number_of_shares = capital / results.iloc[0][1]\n",
        "\n",
        "for i in range(1,len(results)):\n",
        "  results.iloc[i,4] = number_of_shares * results.iloc[i,2]\n",
        "\n",
        "profit = number_of_shares*results.iloc[-1][2] - capital\n",
        "\n",
        "\n",
        "final_value = results.iloc[-1][3]\n",
        "alpha = final_value-capital\n",
        "print(\"========================================\")\n",
        "print(\"LSTM trading strategy Profits: $%.2f\" % alpha)\n",
        "print(\"Percentage Gain: %.2f%%\" % (alpha/capital*100))\n",
        "#Buy and Hold (Buy at Open price, Sell at Close Price)\n",
        "print(\"========================================\")\n",
        "print(\"Profits from Buy and Hold $%.2f\" % profit)\n",
        "print(\"Percentage Gain: %.2f%%\" % (profit/capital*100))\n",
        "\n"
      ],
      "execution_count": 72,
      "outputs": [
        {
          "output_type": "stream",
          "text": [
            "RMSE: 0.527\n",
            "Accuracy 41.67%\n",
            "========================================\n",
            "LSTM trading strategy Profits: $25.18\n",
            "Percentage Gain: 2.52%\n",
            "========================================\n",
            "Profits from Buy and Hold $97.80\n",
            "Percentage Gain: 9.78%\n"
          ],
          "name": "stdout"
        }
      ]
    },
    {
      "cell_type": "code",
      "metadata": {
        "colab": {
          "base_uri": "https://localhost:8080/",
          "height": 349
        },
        "id": "mpXGGDUREEj3",
        "outputId": "ad62fc9a-3a12-4ade-d8ef-2130becf22a4"
      },
      "source": [
        "#Visualize Results\n",
        "plt.figure(figsize=(12.5,4.5))\n",
        "plt.plot(results['LSTM'], label='LSTM')\n",
        "plt.plot(results['Buy&Hold'], label='B&H')\n",
        "plt.title('Value of Initial Capital Invested $' + str(capital) +': ' +stock_ticker)\n",
        "\n",
        "plt.legend()\n",
        "plt.show()\n",
        "\n",
        "results.head()\n",
        "\n",
        "if (alpha>profit):\n",
        "  print(\"YES\")\n",
        "else:\n",
        "  print(\"NOPE\")"
      ],
      "execution_count": 73,
      "outputs": [
        {
          "output_type": "display_data",
          "data": {
            "image/png": "[encoded data removed]",
            "text/plain": [
              "<Figure size 900x324 with 1 Axes>"
            ]
          },
          "metadata": {
            "tags": []
          }
        },
        {
          "output_type": "stream",
          "text": [
            "NOPE\n"
          ],
          "name": "stdout"
        }
      ]
    },
    {
      "cell_type": "code",
      "metadata": {
        "colab": {
          "base_uri": "https://localhost:8080/"
        },
        "id": "IzYQd-a2QSD1",
        "outputId": "3348ef5b-5913-431f-aeb3-2961e475e42d"
      },
      "source": [
        "# serialize model to JSON\n",
        "model_json = model.to_json()\n",
        "with open(\"model.json\", \"w\") as json_file:\n",
        "    json_file.write(model_json)\n",
        "# serialize weights to HDF5\n",
        "model.save_weights(\"model.h5\")\n",
        "print(\"Saved model to disk\")"
      ],
      "execution_count": 74,
      "outputs": [
        {
          "output_type": "stream",
          "text": [
            "Saved model to disk\n"
          ],
          "name": "stdout"
        }
      ]
    },
    {
      "cell_type": "code",
      "metadata": {
        "id": "17uS1xheEFA_"
      },
      "source": [
        ""
      ],
      "execution_count": 74,
      "outputs": []
    },
    {
      "cell_type": "code",
      "metadata": {
        "id": "0BjEuRhYQnJu"
      },
      "source": [
        ""
      ],
      "execution_count": 74,
      "outputs": []
    }
  ]
}