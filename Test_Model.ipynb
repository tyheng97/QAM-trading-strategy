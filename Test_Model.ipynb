{
  "nbformat": 4,
  "nbformat_minor": 0,
  "metadata": {
    "colab": {
      "name": "Test_Model.ipynb",
      "provenance": [],
      "collapsed_sections": []
    },
    "kernelspec": {
      "name": "python3",
      "display_name": "Python 3"
    },
    "language_info": {
      "name": "python"
    },
    "accelerator": "GPU"
  },
  "cells": [
    {
      "cell_type": "code",
      "metadata": {
        "id": "sJXMfYjwNHWu"
      },
      "source": [
        "#Import the libraries\n",
        "import pandas as pd\n",
        "import numpy as np\n",
        "import pandas_datareader as web\n",
        "import datetime as dt\n",
        "import matplotlib.pyplot as plt\n",
        "plt.style.use('fivethirtyeight')"
      ],
      "execution_count": 35,
      "outputs": []
    },
    {
      "cell_type": "code",
      "metadata": {
        "colab": {
          "base_uri": "https://localhost:8080/",
          "height": 450
        },
        "id": "A2SUE1ytNNXW",
        "outputId": "dd369ab2-9f36-4bca-82c3-3b6001e945ed"
      },
      "source": [
        "#Get the data from yahoo finance\n",
        "stock_ticker = 'aapl'\n",
        "#FB\n",
        "#AAPL\n",
        "#AMZN\n",
        "#NFLX\n",
        "#GOOGL\n",
        "\n",
        "# test = 1 -> time period 2000 to 2020\n",
        "# test = 0 -> 2021 to now\n",
        "def get_data(ticker, test):\n",
        "    if test == 0:\n",
        "      start = dt.datetime(2021, 1, 1)\n",
        "      end = dt.datetime.now()\n",
        "    else:\n",
        "      start = dt.datetime(2000, 1, 1)\n",
        "      end = dt.datetime(2020, 12, 31)\n",
        "    \n",
        "    df = web.DataReader(ticker,'yahoo', start, end)\n",
        "    # Create Categorical Input 'Price Change' (Rise = 1, Fall = 0) from previous row Adj Close\n",
        "    df['Price Change'] = df['Adj Close'].diff()\n",
        "    df.loc[df['Price Change'] <= 0, 'Price Change'] = 0\n",
        "    df.loc[df['Price Change'] > 0, 'Price Change'] = 1\n",
        "    #remove the first row as price change is nan\n",
        "    df = df[1:]\n",
        "    return df\n",
        "\n",
        "df = get_data(stock_ticker,1)\n",
        "df"
      ],
      "execution_count": 36,
      "outputs": [
        {
          "output_type": "execute_result",
          "data": {
            "text/html": [
              "<div>\n",
              "<style scoped>\n",
              "    .dataframe tbody tr th:only-of-type {\n",
              "        vertical-align: middle;\n",
              "    }\n",
              "\n",
              "    .dataframe tbody tr th {\n",
              "        vertical-align: top;\n",
              "    }\n",
              "\n",
              "    .dataframe thead th {\n",
              "        text-align: right;\n",
              "    }\n",
              "</style>\n",
              "<table border=\"1\" class=\"dataframe\">\n",
              "  <thead>\n",
              "    <tr style=\"text-align: right;\">\n",
              "      <th></th>\n",
              "      <th>High</th>\n",
              "      <th>Low</th>\n",
              "      <th>Open</th>\n",
              "      <th>Close</th>\n",
              "      <th>Volume</th>\n",
              "      <th>Adj Close</th>\n",
              "      <th>Price Change</th>\n",
              "    </tr>\n",
              "    <tr>\n",
              "      <th>Date</th>\n",
              "      <th></th>\n",
              "      <th></th>\n",
              "      <th></th>\n",
              "      <th></th>\n",
              "      <th></th>\n",
              "      <th></th>\n",
              "      <th></th>\n",
              "    </tr>\n",
              "  </thead>\n",
              "  <tbody>\n",
              "    <tr>\n",
              "      <th>2000-01-04</th>\n",
              "      <td>0.987723</td>\n",
              "      <td>0.903460</td>\n",
              "      <td>0.966518</td>\n",
              "      <td>0.915179</td>\n",
              "      <td>512377600.0</td>\n",
              "      <td>0.788302</td>\n",
              "      <td>0.0</td>\n",
              "    </tr>\n",
              "    <tr>\n",
              "      <th>2000-01-05</th>\n",
              "      <td>0.987165</td>\n",
              "      <td>0.919643</td>\n",
              "      <td>0.926339</td>\n",
              "      <td>0.928571</td>\n",
              "      <td>778321600.0</td>\n",
              "      <td>0.799837</td>\n",
              "      <td>1.0</td>\n",
              "    </tr>\n",
              "    <tr>\n",
              "      <th>2000-01-06</th>\n",
              "      <td>0.955357</td>\n",
              "      <td>0.848214</td>\n",
              "      <td>0.947545</td>\n",
              "      <td>0.848214</td>\n",
              "      <td>767972800.0</td>\n",
              "      <td>0.730621</td>\n",
              "      <td>0.0</td>\n",
              "    </tr>\n",
              "    <tr>\n",
              "      <th>2000-01-07</th>\n",
              "      <td>0.901786</td>\n",
              "      <td>0.852679</td>\n",
              "      <td>0.861607</td>\n",
              "      <td>0.888393</td>\n",
              "      <td>460734400.0</td>\n",
              "      <td>0.765229</td>\n",
              "      <td>1.0</td>\n",
              "    </tr>\n",
              "    <tr>\n",
              "      <th>2000-01-10</th>\n",
              "      <td>0.912946</td>\n",
              "      <td>0.845982</td>\n",
              "      <td>0.910714</td>\n",
              "      <td>0.872768</td>\n",
              "      <td>505064000.0</td>\n",
              "      <td>0.751771</td>\n",
              "      <td>0.0</td>\n",
              "    </tr>\n",
              "    <tr>\n",
              "      <th>...</th>\n",
              "      <td>...</td>\n",
              "      <td>...</td>\n",
              "      <td>...</td>\n",
              "      <td>...</td>\n",
              "      <td>...</td>\n",
              "      <td>...</td>\n",
              "      <td>...</td>\n",
              "    </tr>\n",
              "    <tr>\n",
              "      <th>2020-12-24</th>\n",
              "      <td>133.460007</td>\n",
              "      <td>131.100006</td>\n",
              "      <td>131.320007</td>\n",
              "      <td>131.970001</td>\n",
              "      <td>54930100.0</td>\n",
              "      <td>131.773087</td>\n",
              "      <td>1.0</td>\n",
              "    </tr>\n",
              "    <tr>\n",
              "      <th>2020-12-28</th>\n",
              "      <td>137.339996</td>\n",
              "      <td>133.509995</td>\n",
              "      <td>133.990005</td>\n",
              "      <td>136.690002</td>\n",
              "      <td>124486200.0</td>\n",
              "      <td>136.486053</td>\n",
              "      <td>1.0</td>\n",
              "    </tr>\n",
              "    <tr>\n",
              "      <th>2020-12-29</th>\n",
              "      <td>138.789993</td>\n",
              "      <td>134.339996</td>\n",
              "      <td>138.050003</td>\n",
              "      <td>134.869995</td>\n",
              "      <td>121047300.0</td>\n",
              "      <td>134.668762</td>\n",
              "      <td>0.0</td>\n",
              "    </tr>\n",
              "    <tr>\n",
              "      <th>2020-12-30</th>\n",
              "      <td>135.990005</td>\n",
              "      <td>133.399994</td>\n",
              "      <td>135.580002</td>\n",
              "      <td>133.720001</td>\n",
              "      <td>96452100.0</td>\n",
              "      <td>133.520477</td>\n",
              "      <td>0.0</td>\n",
              "    </tr>\n",
              "    <tr>\n",
              "      <th>2020-12-31</th>\n",
              "      <td>134.740005</td>\n",
              "      <td>131.720001</td>\n",
              "      <td>134.080002</td>\n",
              "      <td>132.690002</td>\n",
              "      <td>99116600.0</td>\n",
              "      <td>132.492020</td>\n",
              "      <td>0.0</td>\n",
              "    </tr>\n",
              "  </tbody>\n",
              "</table>\n",
              "<p>5283 rows × 7 columns</p>\n",
              "</div>"
            ],
            "text/plain": [
              "                  High         Low  ...   Adj Close  Price Change\n",
              "Date                                ...                          \n",
              "2000-01-04    0.987723    0.903460  ...    0.788302           0.0\n",
              "2000-01-05    0.987165    0.919643  ...    0.799837           1.0\n",
              "2000-01-06    0.955357    0.848214  ...    0.730621           0.0\n",
              "2000-01-07    0.901786    0.852679  ...    0.765229           1.0\n",
              "2000-01-10    0.912946    0.845982  ...    0.751771           0.0\n",
              "...                ...         ...  ...         ...           ...\n",
              "2020-12-24  133.460007  131.100006  ...  131.773087           1.0\n",
              "2020-12-28  137.339996  133.509995  ...  136.486053           1.0\n",
              "2020-12-29  138.789993  134.339996  ...  134.668762           0.0\n",
              "2020-12-30  135.990005  133.399994  ...  133.520477           0.0\n",
              "2020-12-31  134.740005  131.720001  ...  132.492020           0.0\n",
              "\n",
              "[5283 rows x 7 columns]"
            ]
          },
          "metadata": {
            "tags": []
          },
          "execution_count": 36
        }
      ]
    },
    {
      "cell_type": "code",
      "metadata": {
        "colab": {
          "base_uri": "https://localhost:8080/",
          "height": 354
        },
        "id": "tDSIsqcqNNch",
        "outputId": "ee82d0c0-d5a7-4d77-b3c0-19a3169bc88b"
      },
      "source": [
        "#visualize the data\n",
        "plt.figure(figsize=(12.5,4.5))\n",
        "plt.plot(df['Adj Close'], label = stock_ticker)\n",
        "\n",
        "plt.title('Adj Close Price ' + stock_ticker)\n",
        "plt.xlabel('Time Period')\n",
        "plt.ylabel('Adj close price USD($)')\n",
        "plt.legend(loc = 'upper left')\n",
        "plt.show()"
      ],
      "execution_count": 37,
      "outputs": [
        {
          "output_type": "display_data",
          "data": {
            "image/png": "[encoded data removed]",
            "text/plain": [
              "<Figure size 900x324 with 1 Axes>"
            ]
          },
          "metadata": {
            "tags": []
          }
        }
      ]
    },
    {
      "cell_type": "code",
      "metadata": {
        "id": "Rm_xsE3qO1M9"
      },
      "source": [
        "# Remove all non number\n",
        "for col in df.columns: \n",
        "  df=df[pd.to_numeric(df[col], errors='coerce').notnull()]\n",
        "# Remove NA\n",
        "df = df.dropna()"
      ],
      "execution_count": 38,
      "outputs": []
    },
    {
      "cell_type": "markdown",
      "metadata": {
        "id": "4fP1ITeMNU4j"
      },
      "source": [
        "#Preprocess data to fit into LSTM Model"
      ]
    },
    {
      "cell_type": "code",
      "metadata": {
        "colab": {
          "base_uri": "https://localhost:8080/"
        },
        "id": "uqPyjHreXoaB",
        "outputId": "1c02bfc5-352a-4a28-a611-6cceb488ba19"
      },
      "source": [
        "# prepare data for lstm\n",
        " \n",
        "# convert series to supervised learning\n",
        "def series_to_supervised(data, n_in=1, n_out=1, dropnan=True):\n",
        "    n_vars = 1 if type(data) is list else data.shape[1]\n",
        "    df = pd.DataFrame(data)\n",
        "    cols, names = list(), list()\n",
        "    # input sequence (t-n, ... t-1)\n",
        "    for i in range(n_in, 0, -1):\n",
        "        cols.append(df.shift(i))\n",
        "        names += [('var%d(t-%d)' % (j+1, i)) for j in range(n_vars)]\n",
        "    # forecast sequence (t, t+1, ... t+n)\n",
        "    for i in range(0, n_out):\n",
        "        cols.append(df.shift(-i))\n",
        "        if i == 0:\n",
        "            names += [('var%d(t)' % (j+1)) for j in range(n_vars)]\n",
        "        else:\n",
        "            names += [('var%d(t+%d)' % (j+1, i)) for j in range(n_vars)]\n",
        "    # put it all together\n",
        "    agg = pd.concat(cols, axis=1)\n",
        "    agg.columns = names\n",
        "    # drop rows with NaN values\n",
        "    if dropnan:\n",
        "        agg.dropna(inplace=True)\n",
        "    return agg\n",
        " \n",
        "# load dataset\n",
        "values = df.values\n",
        "\n",
        "# ensure all data is float\n",
        "values = values.astype('float32')\n",
        "\n",
        "# frame as supervised learning\n",
        "reframed = series_to_supervised(values, 1, 1)\n",
        "reframed.drop(reframed.columns[[10,9,8,7,11,12]], axis=1, inplace=True)\n",
        "print(reframed.head())\n",
        "values = reframed.values\n",
        "values"
      ],
      "execution_count": 39,
      "outputs": [
        {
          "output_type": "stream",
          "text": [
            "   var1(t-1)  var2(t-1)  var3(t-1)  ...  var6(t-1)  var7(t-1)  var7(t)\n",
            "1   0.987723   0.903460   0.966518  ...   0.788302        0.0      1.0\n",
            "2   0.987165   0.919643   0.926339  ...   0.799837        1.0      0.0\n",
            "3   0.955357   0.848214   0.947545  ...   0.730621        0.0      1.0\n",
            "4   0.901786   0.852679   0.861607  ...   0.765229        1.0      0.0\n",
            "5   0.912946   0.845982   0.910714  ...   0.751771        0.0      0.0\n",
            "\n",
            "[5 rows x 8 columns]\n"
          ],
          "name": "stdout"
        },
        {
          "output_type": "execute_result",
          "data": {
            "text/plain": [
              "array([[  0.987723 ,   0.90346  ,   0.966518 , ...,   0.7883018,\n",
              "          0.       ,   1.       ],\n",
              "       [  0.987165 ,   0.919643 ,   0.926339 , ...,   0.7998371,\n",
              "          1.       ,   0.       ],\n",
              "       [  0.955357 ,   0.848214 ,   0.947545 , ...,   0.7306205,\n",
              "          0.       ,   1.       ],\n",
              "       ...,\n",
              "       [137.34     , 133.51     , 133.99     , ..., 136.48605  ,\n",
              "          1.       ,   0.       ],\n",
              "       [138.79     , 134.34     , 138.05     , ..., 134.66876  ,\n",
              "          0.       ,   0.       ],\n",
              "       [135.99     , 133.4      , 135.58     , ..., 133.52048  ,\n",
              "          0.       ,   0.       ]], dtype=float32)"
            ]
          },
          "metadata": {
            "tags": []
          },
          "execution_count": 39
        }
      ]
    },
    {
      "cell_type": "code",
      "metadata": {
        "colab": {
          "base_uri": "https://localhost:8080/"
        },
        "id": "sjDCpDE5NLmu",
        "outputId": "2e21e8e2-540b-4fce-90d7-f6469ad8b9fd"
      },
      "source": [
        "# ensure all data is float\n",
        "values = values.astype('float32')\n",
        "\n",
        "# split into train and test sets (80% train)\n",
        "train_size = round(0.8 * len(values))\n",
        "train = values[:train_size, :]\n",
        "test = values[train_size:, :]\n",
        "\n",
        "# split into input and outputs (last column is Y)\n",
        "train_X, train_y = train[:, :-1], train[:, -1]\n",
        "print(train_X[:3])\n",
        "print(train_y[:3])\n",
        "test_X, test_y = test[:, :-1], test[:, -1]\n",
        "\n",
        "# preprocess\n",
        "from sklearn import preprocessing\n",
        "\n",
        "scaler = preprocessing.StandardScaler().fit(train_X)\n",
        "train_X = scaler.transform(train_X)\n",
        "test_X = scaler.transform(test_X) \n",
        "\n",
        "# reshape input to be 3D [samples, timesteps, features]\n",
        "train_X = train_X.reshape((train_X.shape[0], 1, train_X.shape[1]))\n",
        "test_X = test_X.reshape((test_X.shape[0], 1, test_X.shape[1]))\n",
        "print(train_X.shape, train_y.shape, test_X.shape, test_y.shape)\n"
      ],
      "execution_count": 40,
      "outputs": [
        {
          "output_type": "stream",
          "text": [
            "[[9.877230e-01 9.034600e-01 9.665180e-01 9.151790e-01 5.123776e+08\n",
            "  7.883018e-01 0.000000e+00]\n",
            " [9.871650e-01 9.196430e-01 9.263390e-01 9.285710e-01 7.783216e+08\n",
            "  7.998371e-01 1.000000e+00]\n",
            " [9.553570e-01 8.482140e-01 9.475450e-01 8.482140e-01 7.679728e+08\n",
            "  7.306205e-01 0.000000e+00]]\n",
            "[1. 0. 1.]\n",
            "(4226, 1, 7) (4226,) (1056, 1, 7) (1056,)\n"
          ],
          "name": "stdout"
        }
      ]
    },
    {
      "cell_type": "markdown",
      "metadata": {
        "id": "k6f5s75aURTp"
      },
      "source": [
        "#Load Model and Compile"
      ]
    },
    {
      "cell_type": "code",
      "metadata": {
        "id": "CdMRdoM1NLIW",
        "colab": {
          "base_uri": "https://localhost:8080/"
        },
        "outputId": "ca8adae9-c3b7-4927-e786-2447cacb82a7"
      },
      "source": [
        " # load json and create model\n",
        "from keras.models import model_from_json\n",
        "\n",
        "json_file = open('model1.json', 'r')\n",
        "loaded_model_json = json_file.read()\n",
        "json_file.close()\n",
        "model = model_from_json(loaded_model_json)\n",
        "# load weights into new model\n",
        "model.load_weights(\"model1.h5\")\n",
        "print(\"Loaded model from disk\")\n",
        "model.compile(loss='Huber', optimizer='adam')\n"
      ],
      "execution_count": 41,
      "outputs": [
        {
          "output_type": "stream",
          "text": [
            "Loaded model from disk\n"
          ],
          "name": "stdout"
        }
      ]
    },
    {
      "cell_type": "markdown",
      "metadata": {
        "id": "mKivW0lnUXbI"
      },
      "source": [
        "#Results on Train and Test"
      ]
    },
    {
      "cell_type": "code",
      "metadata": {
        "colab": {
          "base_uri": "https://localhost:8080/"
        },
        "id": "egqFj1_ANLLG",
        "outputId": "d7a7acfc-eb6b-483d-caa8-4113f97d6eb3"
      },
      "source": [
        "import math\n",
        "from sklearn.metrics import confusion_matrix\n",
        "from sklearn.metrics import mean_squared_error\n",
        "\n",
        "\n",
        "# TRAIN SET\n",
        "yhat = model.predict(train_X)\n",
        "y_pred = (yhat > 0.5)\n",
        "cm = confusion_matrix(train_y, y_pred)\n",
        "acc = (cm[0,0] + cm[1,1]) / sum(sum(cm)) * 100\n",
        "print(\"TrainSet Accuracy %.2f%%\" % acc)\n",
        "\n",
        "# calculate RMSE\n",
        "rmse = math.sqrt(mean_squared_error(train_y, yhat))\n",
        "print('Train RMSE: %.3f' % rmse)\n",
        "\n",
        "\n",
        "\n",
        "# TEST SET\n",
        "yhat = model.predict(test_X)\n",
        "y_pred = (yhat > 0.5)\n",
        "cm = confusion_matrix(test_y, y_pred)\n",
        "acc = (cm[0,0] + cm[1,1]) / sum(sum(cm)) * 100\n",
        "print(\"TestSet Accuracy %.2f%%\" % acc)\n",
        "\n",
        "# calculate RMSE\n",
        "rmse = math.sqrt(mean_squared_error(test_y, yhat))\n",
        "print('Test RMSE: %.3f' % rmse)\n",
        "\n"
      ],
      "execution_count": 42,
      "outputs": [
        {
          "output_type": "stream",
          "text": [
            "TrainSet Accuracy 49.74%\n",
            "Train RMSE: 0.503\n",
            "TestSet Accuracy 45.36%\n",
            "Test RMSE: 0.505\n"
          ],
          "name": "stdout"
        }
      ]
    },
    {
      "cell_type": "markdown",
      "metadata": {
        "id": "oWtvkxxTPTI-"
      },
      "source": [
        "#Backtesting "
      ]
    },
    {
      "cell_type": "code",
      "metadata": {
        "colab": {
          "base_uri": "https://localhost:8080/"
        },
        "id": "9yo3zo9INLQI",
        "outputId": "a2f7b2b9-ab56-4baa-dc90-5202f50df265"
      },
      "source": [
        "# split into input and outputs (last column is Y)\n",
        "df = get_data(stock_ticker, 1)\n",
        "\n",
        "df = df.reset_index()\n",
        "date = pd.DataFrame(df['Date'], columns=['Date'])\n",
        "df.drop('Date', inplace=True, axis=1)\n",
        "values = df.values\n",
        "# preprocess\n",
        "\n",
        "reframed = series_to_supervised(values, 1, 1)\n",
        "reframed.drop(reframed.columns[[10,9,8,7,11,12]], axis=1, inplace=True)\n",
        "print(reframed)\n",
        "values = reframed.values\n",
        "values = values.astype('float32')\n",
        "print(values)\n",
        "from sklearn import preprocessing\n",
        "\n",
        "x = values[:,:-1]\n",
        "y = values[:, -1]\n",
        "scaler = preprocessing.StandardScaler().fit(x)\n",
        "x = scaler.transform(x)\n",
        "x = x.reshape((x.shape[0], 1, x.shape[1]))\n",
        "x.shape\n"
      ],
      "execution_count": 43,
      "outputs": [
        {
          "output_type": "stream",
          "text": [
            "       var1(t-1)   var2(t-1)   var3(t-1)  ...   var6(t-1)  var7(t-1)  var7(t)\n",
            "1       0.987723    0.903460    0.966518  ...    0.788302        0.0      1.0\n",
            "2       0.987165    0.919643    0.926339  ...    0.799837        1.0      0.0\n",
            "3       0.955357    0.848214    0.947545  ...    0.730621        0.0      1.0\n",
            "4       0.901786    0.852679    0.861607  ...    0.765229        1.0      0.0\n",
            "5       0.912946    0.845982    0.910714  ...    0.751771        0.0      0.0\n",
            "...          ...         ...         ...  ...         ...        ...      ...\n",
            "5278  132.429993  130.779999  132.160004  ...  130.764603        0.0      1.0\n",
            "5279  133.460007  131.100006  131.320007  ...  131.773087        1.0      1.0\n",
            "5280  137.339996  133.509995  133.990005  ...  136.486053        1.0      0.0\n",
            "5281  138.789993  134.339996  138.050003  ...  134.668762        0.0      0.0\n",
            "5282  135.990005  133.399994  135.580002  ...  133.520477        0.0      0.0\n",
            "\n",
            "[5282 rows x 8 columns]\n",
            "[[  0.987723    0.90346     0.966518  ...   0.7883018   0.\n",
            "    1.       ]\n",
            " [  0.987165    0.919643    0.926339  ...   0.7998371   1.\n",
            "    0.       ]\n",
            " [  0.955357    0.848214    0.947545  ...   0.7306205   0.\n",
            "    1.       ]\n",
            " ...\n",
            " [137.34      133.51      133.99      ... 136.48605     1.\n",
            "    0.       ]\n",
            " [138.79      134.34      138.05      ... 134.66876     0.\n",
            "    0.       ]\n",
            " [135.99      133.4       135.58      ... 133.52048     0.\n",
            "    0.       ]]\n"
          ],
          "name": "stdout"
        },
        {
          "output_type": "execute_result",
          "data": {
            "text/plain": [
              "(5282, 1, 7)"
            ]
          },
          "metadata": {
            "tags": []
          },
          "execution_count": 43
        }
      ]
    },
    {
      "cell_type": "code",
      "metadata": {
        "colab": {
          "base_uri": "https://localhost:8080/",
          "height": 620
        },
        "id": "UmTgZ4d9P45l",
        "outputId": "c7d0a9f1-57dd-4338-e3d7-eb66b265a2eb"
      },
      "source": [
        "import math\n",
        "parameter = 0.5\n",
        "# make a prediction\n",
        "yhat = model.predict(x)\n",
        "# store in Results DataFrame\n",
        "results = pd.DataFrame(yhat, columns=['Result'])\n",
        "# calculate RMSE\n",
        "rmse = math.sqrt(mean_squared_error(y, yhat))\n",
        "print('RMSE: %.3f' % rmse)\n",
        "\n",
        "y_pred = (yhat > parameter)\n",
        "cm = confusion_matrix(y, y_pred)\n",
        "acc = (cm[0,0] + cm[1,1]) / sum(sum(cm)) * 100\n",
        "print(\"Accuracy %.2f%%\" % acc)\n",
        "\n",
        "#When predicted is > 0.5, buy at open. sell at close.\n",
        "#Starting Capital $1000\n",
        "#Results\n",
        "\n",
        "capital = 1000\n",
        "\n",
        "results['Open']=df['Open']\n",
        "results['Close'] = df['Close']\n",
        "results['LSTM'] = capital\n",
        "results['Buy&Hold'] = capital\n",
        "results['Date'] = date['Date']\n",
        "\n",
        "for i in range(1,len(results)):\n",
        "  if (results.iloc[i,0] < parameter):# if less than 0.5, do nothing and retain the previous day capital\n",
        "    results.iloc[i, 3] = results.iloc[i-1,3] \n",
        "  else: # buy at open price with all capital and sell at close\n",
        "    results.iloc[i, 3] = results.iloc[i-1, 3] / results.iloc[i, 1] * results.iloc[i, 2] \n",
        "\n",
        "number_of_shares = capital / results.iloc[0][1]\n",
        "\n",
        "for i in range(1,len(results)):\n",
        "  results.iloc[i,4] = number_of_shares * results.iloc[i,2]\n",
        "\n",
        "profit = number_of_shares*results.iloc[-1][2] - capital\n",
        "\n",
        "\n",
        "final_value = results.iloc[-1][3]\n",
        "alpha = final_value-capital\n",
        "print(\"========================================\")\n",
        "print(\"Initial Capital: $\",capital)\n",
        "print(\"========================================\")\n",
        "print(\"LSTM trading strategy Profits: $%.2f\" % alpha)\n",
        "print(\"Percentage Gain: %.2f%%\" % (alpha/capital*100))\n",
        "#Buy and Hold (Buy at Open price, Sell at Close Price)\n",
        "print(\"========================================\")\n",
        "print(\"Profits from Buy and Hold $%.2f\" % profit)\n",
        "print(\"Percentage Gain: %.2f%%\" % (profit/capital*100))\n",
        "results = results.set_index('Date')\n",
        "results"
      ],
      "execution_count": 44,
      "outputs": [
        {
          "output_type": "stream",
          "text": [
            "RMSE: 0.502\n",
            "Accuracy 48.50%\n",
            "========================================\n",
            "Initial Capital: $ 1000\n",
            "========================================\n",
            "LSTM trading strategy Profits: $599438.20\n",
            "Percentage Gain: 59943.82%\n",
            "========================================\n",
            "Profits from Buy and Hold $137352.32\n",
            "Percentage Gain: 13735.23%\n"
          ],
          "name": "stdout"
        },
        {
          "output_type": "execute_result",
          "data": {
            "text/html": [
              "<div>\n",
              "<style scoped>\n",
              "    .dataframe tbody tr th:only-of-type {\n",
              "        vertical-align: middle;\n",
              "    }\n",
              "\n",
              "    .dataframe tbody tr th {\n",
              "        vertical-align: top;\n",
              "    }\n",
              "\n",
              "    .dataframe thead th {\n",
              "        text-align: right;\n",
              "    }\n",
              "</style>\n",
              "<table border=\"1\" class=\"dataframe\">\n",
              "  <thead>\n",
              "    <tr style=\"text-align: right;\">\n",
              "      <th></th>\n",
              "      <th>Result</th>\n",
              "      <th>Open</th>\n",
              "      <th>Close</th>\n",
              "      <th>LSTM</th>\n",
              "      <th>Buy&amp;Hold</th>\n",
              "    </tr>\n",
              "    <tr>\n",
              "      <th>Date</th>\n",
              "      <th></th>\n",
              "      <th></th>\n",
              "      <th></th>\n",
              "      <th></th>\n",
              "      <th></th>\n",
              "    </tr>\n",
              "  </thead>\n",
              "  <tbody>\n",
              "    <tr>\n",
              "      <th>2000-01-04</th>\n",
              "      <td>0.465649</td>\n",
              "      <td>0.966518</td>\n",
              "      <td>0.915179</td>\n",
              "      <td>1000.000000</td>\n",
              "      <td>1000.000000</td>\n",
              "    </tr>\n",
              "    <tr>\n",
              "      <th>2000-01-05</th>\n",
              "      <td>0.419827</td>\n",
              "      <td>0.926339</td>\n",
              "      <td>0.928571</td>\n",
              "      <td>1000.000000</td>\n",
              "      <td>960.738445</td>\n",
              "    </tr>\n",
              "    <tr>\n",
              "      <th>2000-01-06</th>\n",
              "      <td>0.494816</td>\n",
              "      <td>0.947545</td>\n",
              "      <td>0.848214</td>\n",
              "      <td>1000.000000</td>\n",
              "      <td>877.597710</td>\n",
              "    </tr>\n",
              "    <tr>\n",
              "      <th>2000-01-07</th>\n",
              "      <td>0.473203</td>\n",
              "      <td>0.861607</td>\n",
              "      <td>0.888393</td>\n",
              "      <td>1000.000000</td>\n",
              "      <td>919.168602</td>\n",
              "    </tr>\n",
              "    <tr>\n",
              "      <th>2000-01-10</th>\n",
              "      <td>0.466485</td>\n",
              "      <td>0.910714</td>\n",
              "      <td>0.872768</td>\n",
              "      <td>1000.000000</td>\n",
              "      <td>903.002322</td>\n",
              "    </tr>\n",
              "    <tr>\n",
              "      <th>...</th>\n",
              "      <td>...</td>\n",
              "      <td>...</td>\n",
              "      <td>...</td>\n",
              "      <td>...</td>\n",
              "      <td>...</td>\n",
              "    </tr>\n",
              "    <tr>\n",
              "      <th>2020-12-23</th>\n",
              "      <td>0.457565</td>\n",
              "      <td>132.160004</td>\n",
              "      <td>130.960007</td>\n",
              "      <td>600438.199281</td>\n",
              "      <td>135496.709595</td>\n",
              "    </tr>\n",
              "    <tr>\n",
              "      <th>2020-12-24</th>\n",
              "      <td>0.480924</td>\n",
              "      <td>131.320007</td>\n",
              "      <td>131.970001</td>\n",
              "      <td>600438.199281</td>\n",
              "      <td>136541.692226</td>\n",
              "    </tr>\n",
              "    <tr>\n",
              "      <th>2020-12-28</th>\n",
              "      <td>0.479992</td>\n",
              "      <td>133.990005</td>\n",
              "      <td>136.690002</td>\n",
              "      <td>600438.199281</td>\n",
              "      <td>141425.203236</td>\n",
              "    </tr>\n",
              "    <tr>\n",
              "      <th>2020-12-29</th>\n",
              "      <td>0.454499</td>\n",
              "      <td>138.050003</td>\n",
              "      <td>134.869995</td>\n",
              "      <td>600438.199281</td>\n",
              "      <td>139542.147408</td>\n",
              "    </tr>\n",
              "    <tr>\n",
              "      <th>2020-12-30</th>\n",
              "      <td>0.456629</td>\n",
              "      <td>135.580002</td>\n",
              "      <td>133.720001</td>\n",
              "      <td>600438.199281</td>\n",
              "      <td>138352.315543</td>\n",
              "    </tr>\n",
              "  </tbody>\n",
              "</table>\n",
              "<p>5282 rows × 5 columns</p>\n",
              "</div>"
            ],
            "text/plain": [
              "              Result        Open       Close           LSTM       Buy&Hold\n",
              "Date                                                                      \n",
              "2000-01-04  0.465649    0.966518    0.915179    1000.000000    1000.000000\n",
              "2000-01-05  0.419827    0.926339    0.928571    1000.000000     960.738445\n",
              "2000-01-06  0.494816    0.947545    0.848214    1000.000000     877.597710\n",
              "2000-01-07  0.473203    0.861607    0.888393    1000.000000     919.168602\n",
              "2000-01-10  0.466485    0.910714    0.872768    1000.000000     903.002322\n",
              "...              ...         ...         ...            ...            ...\n",
              "2020-12-23  0.457565  132.160004  130.960007  600438.199281  135496.709595\n",
              "2020-12-24  0.480924  131.320007  131.970001  600438.199281  136541.692226\n",
              "2020-12-28  0.479992  133.990005  136.690002  600438.199281  141425.203236\n",
              "2020-12-29  0.454499  138.050003  134.869995  600438.199281  139542.147408\n",
              "2020-12-30  0.456629  135.580002  133.720001  600438.199281  138352.315543\n",
              "\n",
              "[5282 rows x 5 columns]"
            ]
          },
          "metadata": {
            "tags": []
          },
          "execution_count": 44
        }
      ]
    },
    {
      "cell_type": "code",
      "metadata": {
        "colab": {
          "base_uri": "https://localhost:8080/",
          "height": 332
        },
        "id": "sexvGoH-CdWC",
        "outputId": "656a8b3e-e709-43c8-87a9-77ceea423c93"
      },
      "source": [
        "#Visualize Results\n",
        "plt.figure(figsize=(12.5,4.5))\n",
        "plt.plot(results['LSTM'], label='LSTM')\n",
        "plt.plot(results['Buy&Hold'], label='B&H')\n",
        "plt.title('Value of Initial Capital Invested $' + str(capital) +': ' +stock_ticker)\n",
        "\n",
        "plt.legend()\n",
        "plt.show()\n"
      ],
      "execution_count": 45,
      "outputs": [
        {
          "output_type": "display_data",
          "data": {
            "image/png": "[encoded data removed]",
            "text/plain": [
              "<Figure size 900x324 with 1 Axes>"
            ]
          },
          "metadata": {
            "tags": []
          }
        }
      ]
    },
    {
      "cell_type": "code",
      "metadata": {
        "colab": {
          "base_uri": "https://localhost:8080/"
        },
        "id": "GG5RURWsSzoX",
        "outputId": "9dd4d7d4-fd65-4479-c7b0-cde3cda551a1"
      },
      "source": [
        "if (alpha>profit):\n",
        "  print(\"YES\")\n",
        "else:\n",
        "  print(\"nope\")"
      ],
      "execution_count": 46,
      "outputs": [
        {
          "output_type": "stream",
          "text": [
            "YES\n"
          ],
          "name": "stdout"
        }
      ]
    },
    {
      "cell_type": "markdown",
      "metadata": {
        "id": "rDCye3ZWDoAp"
      },
      "source": [
        "#Test on 2021"
      ]
    },
    {
      "cell_type": "code",
      "metadata": {
        "id": "43OUoQwYhkCH",
        "colab": {
          "base_uri": "https://localhost:8080/"
        },
        "outputId": "0ee337d2-17fd-40a9-e1a1-35f1a8cecfc2"
      },
      "source": [
        "\n",
        "# split into input and outputs (last column is Y)\n",
        "df = get_data(stock_ticker, 0)\n",
        "\n",
        "df = df.reset_index()\n",
        "date = pd.DataFrame(df['Date'], columns=['Date'])\n",
        "df.drop('Date', inplace=True, axis=1)\n",
        "values = df.values\n",
        "# preprocess\n",
        "\n",
        "reframed = series_to_supervised(values, 1, 1)\n",
        "reframed.drop(reframed.columns[[10,9,8,7,11,12]], axis=1, inplace=True)\n",
        "values = reframed.values\n",
        "#values = values.astype('float32')\n",
        "\n",
        "from sklearn import preprocessing\n",
        "\n",
        "x = values[:,:-1]\n",
        "y = values[:, -1]\n",
        "scaler = preprocessing.StandardScaler().fit(x)\n",
        "x = scaler.transform(x)\n",
        "x = x.reshape((x.shape[0], 1, x.shape[1]))\n",
        "x.shape\n",
        "\n",
        "\n",
        "\n",
        "import math\n",
        "# make a prediction\n",
        "yhat = model.predict(x)\n",
        "# store in Results DataFrame\n",
        "results = pd.DataFrame(yhat, columns=['Result'])\n",
        "# calculate RMSE\n",
        "rmse = math.sqrt(mean_squared_error(y, yhat))\n",
        "print('RMSE: %.3f' % rmse)\n",
        "\n",
        "y_pred = (yhat > parameter)\n",
        "cm = confusion_matrix(y, y_pred)\n",
        "acc = (cm[0,0] + cm[1,1]) / sum(sum(cm)) * 100\n",
        "print(\"Accuracy %.2f%%\" % acc)\n",
        "\n",
        "#When predicted is > parameter, buy at open. sell at close.\n",
        "#Starting Capital $1000\n",
        "#Results\n",
        "\n",
        "capital = 1000\n",
        "\n",
        "results['Open']=df['Open']\n",
        "results['Close'] = df['Close']\n",
        "results['LSTM'] = capital\n",
        "results['Buy&Hold'] = capital\n",
        "results['Date'] = date['Date']\n",
        "\n",
        "for i in range(1,len(results)):\n",
        "  if (results.iloc[i,0] < parameter):\n",
        "    results.iloc[i, 3] = results.iloc[i-1,3] #if less than 0.5, do nothing and retain the previous day capital\n",
        "  else:\n",
        "    results.iloc[i, 3] = results.iloc[i-1, 3] / results.iloc[i, 1] * results.iloc[i, 2] #buy at open price with all capital and sell at close\n",
        "\n",
        "number_of_shares = capital / results.iloc[0][1]\n",
        "\n",
        "for i in range(1,len(results)):\n",
        "  results.iloc[i,4] = number_of_shares * results.iloc[i,2]\n",
        "\n",
        "profit = number_of_shares*results.iloc[-1][2] - capital\n",
        "\n",
        "\n",
        "final_value = results.iloc[-1][3]\n",
        "alpha = final_value-capital\n",
        "print(\"========================================\")\n",
        "print(\"LSTM trading strategy Profits: $%.2f\" % alpha)\n",
        "print(\"Percentage Gain: %.2f%%\" % (alpha/capital*100))\n",
        "#Buy and Hold (Buy at Open price, Sell at Close Price)\n",
        "print(\"========================================\")\n",
        "print(\"Profits from Buy and Hold $%.2f\" % profit)\n",
        "print(\"Percentage Gain: %.2f%%\" % (profit/capital*100))\n",
        "\n"
      ],
      "execution_count": 47,
      "outputs": [
        {
          "output_type": "stream",
          "text": [
            "RMSE: 0.511\n",
            "Accuracy 41.67%\n",
            "========================================\n",
            "LSTM trading strategy Profits: $-37.44\n",
            "Percentage Gain: -3.74%\n",
            "========================================\n",
            "Profits from Buy and Hold $-52.29\n",
            "Percentage Gain: -5.23%\n"
          ],
          "name": "stdout"
        }
      ]
    },
    {
      "cell_type": "code",
      "metadata": {
        "colab": {
          "base_uri": "https://localhost:8080/",
          "height": 349
        },
        "id": "mpXGGDUREEj3",
        "outputId": "aac3c30d-285b-4e1c-ea3b-b9b71a1a9108"
      },
      "source": [
        "#Visualize Results\n",
        "results = results.set_index('Date')\n",
        "plt.figure(figsize=(12.5,4.5))\n",
        "plt.plot(results['LSTM'], label='LSTM')\n",
        "plt.plot(results['Buy&Hold'], label='B&H')\n",
        "plt.title('Value of Initial Capital Invested $' + str(capital) +': ' +stock_ticker)\n",
        "\n",
        "plt.legend()\n",
        "plt.show()\n",
        "\n",
        "results.head()\n",
        "\n",
        "if (alpha>profit):\n",
        "  print(\"YES\")\n",
        "else:\n",
        "  print(\"NOPE\")"
      ],
      "execution_count": 48,
      "outputs": [
        {
          "output_type": "display_data",
          "data": {
            "image/png": "[encoded data removed]",
            "text/plain": [
              "<Figure size 900x324 with 1 Axes>"
            ]
          },
          "metadata": {
            "tags": []
          }
        },
        {
          "output_type": "stream",
          "text": [
            "YES\n"
          ],
          "name": "stdout"
        }
      ]
    },
    {
      "cell_type": "code",
      "metadata": {
        "id": "IzYQd-a2QSD1",
        "colab": {
          "base_uri": "https://localhost:8080/"
        },
        "outputId": "c19ee138-2210-4d6d-b5fa-e4a5b9626b21"
      },
      "source": [
        "df = get_data(stock_ticker, 0)\n",
        "print(df.columns\n",
        "      )"
      ],
      "execution_count": 49,
      "outputs": [
        {
          "output_type": "stream",
          "text": [
            "Index(['High', 'Low', 'Open', 'Close', 'Volume', 'Adj Close', 'Price Change'], dtype='object')\n"
          ],
          "name": "stdout"
        }
      ]
    },
    {
      "cell_type": "code",
      "metadata": {
        "id": "17uS1xheEFA_",
        "colab": {
          "base_uri": "https://localhost:8080/"
        },
        "outputId": "3d3a8163-cf67-4f57-d567-73fd3f5b17e2"
      },
      "source": [
        "df = get_data(stock_ticker, 0)\n",
        "df = df.iloc[-9:]\n",
        "print(df)\n",
        "df = df.reset_index()\n",
        "date = pd.DataFrame(df['Date'], columns=['Date'])\n",
        "df.drop('Date', inplace=True, axis=1)\n",
        "values = df.values\n",
        "\n",
        "reframed = series_to_supervised(values, 1, 1)\n",
        "reframed.drop(reframed.columns[[10,9,8,7,11,12]], axis=1, inplace=True)\n",
        "print(reframed)\n",
        "values = reframed.values\n",
        "#values = values.astype('float32')\n",
        "\n",
        "from sklearn import preprocessing\n",
        "\n",
        "x = values[:,:-1]\n",
        "y = values[:, -1]\n",
        "scaler = preprocessing.StandardScaler().fit(x)\n",
        "x = scaler.transform(x)\n",
        "x = x.reshape((x.shape[0], 1, x.shape[1]))\n",
        "print(x.shape)\n",
        "import math\n",
        "# make a prediction\n",
        "yhat = model.predict(x)\n",
        "# store in Results DataFrame\n",
        "results = pd.DataFrame(yhat, columns=['Result'])\n",
        "print(results)\n",
        "\n",
        "y_pred = (yhat > parameter)\n",
        "cm = confusion_matrix(y, y_pred)\n",
        "acc = (cm[0,0] + cm[1,1]) / sum(sum(cm)) * 100\n",
        "print(\"Accuracy %.2f%%\" % acc)"
      ],
      "execution_count": 50,
      "outputs": [
        {
          "output_type": "stream",
          "text": [
            "                  High         Low  ...   Adj Close  Price Change\n",
            "Date                                ...                          \n",
            "2021-03-22  123.870003  120.260002  ...  123.389999           1.0\n",
            "2021-03-23  124.239998  122.139999  ...  122.540001           0.0\n",
            "2021-03-24  122.900002  120.070000  ...  120.089996           0.0\n",
            "2021-03-25  121.660004  119.000000  ...  120.589996           1.0\n",
            "2021-03-26  121.480003  118.919998  ...  121.209999           1.0\n",
            "2021-03-29  122.580002  120.730003  ...  121.389999           1.0\n",
            "2021-03-30  120.400002  118.860001  ...  119.900002           0.0\n",
            "2021-03-31  123.519997  121.150002  ...  122.150002           1.0\n",
            "2021-04-01  124.180000  122.489998  ...  123.000000           1.0\n",
            "\n",
            "[9 rows x 7 columns]\n",
            "    var1(t-1)   var2(t-1)   var3(t-1)  ...   var6(t-1)  var7(t-1)  var7(t)\n",
            "1  123.870003  120.260002  120.330002  ...  123.389999        1.0      0.0\n",
            "2  124.239998  122.139999  123.330002  ...  122.540001        0.0      0.0\n",
            "3  122.900002  120.070000  122.820000  ...  120.089996        0.0      1.0\n",
            "4  121.660004  119.000000  119.540001  ...  120.589996        1.0      1.0\n",
            "5  121.480003  118.919998  120.349998  ...  121.209999        1.0      1.0\n",
            "6  122.580002  120.730003  121.650002  ...  121.389999        1.0      0.0\n",
            "7  120.400002  118.860001  120.110001  ...  119.900002        0.0      1.0\n",
            "8  123.519997  121.150002  121.650002  ...  122.150002        1.0      1.0\n",
            "\n",
            "[8 rows x 8 columns]\n",
            "(8, 1, 7)\n",
            "     Result\n",
            "0  0.511561\n",
            "1  0.401613\n",
            "2  0.544908\n",
            "3  0.413171\n",
            "4  0.525533\n",
            "5  0.584360\n",
            "6  0.475613\n",
            "7  0.464999\n",
            "Accuracy 37.50%\n"
          ],
          "name": "stdout"
        }
      ]
    },
    {
      "cell_type": "markdown",
      "metadata": {
        "id": "TuHHsvxLw5dV"
      },
      "source": [
        "#Trade Signal"
      ]
    },
    {
      "cell_type": "code",
      "metadata": {
        "id": "0BjEuRhYQnJu",
        "colab": {
          "base_uri": "https://localhost:8080/"
        },
        "outputId": "e0d1b7a3-bc6c-4c9f-d760-86b668c38770"
      },
      "source": [
        "#Number of days to generate trade signal\n",
        "n = 51\n",
        "df = get_data(stock_ticker, 0)\n",
        "df = df.iloc[-n:]\n",
        "\n",
        "values = df.values\n",
        "\n",
        "reframed = series_to_supervised(values, 1, 1)\n",
        "reframed.drop(reframed.columns[[0,1,2,3,4,5,6]], axis=1, inplace=True)\n",
        "print(reframed)\n",
        "values = reframed.values\n",
        "#values = values.astype('float32')\n",
        "from sklearn import preprocessing\n",
        "x = values[:,:]\n",
        "\n",
        "scaler = preprocessing.StandardScaler().fit(x)\n",
        "x = scaler.transform(x)\n",
        "x = x.reshape((x.shape[0], 1, x.shape[1]))\n",
        "\n",
        "import math\n",
        "# make a prediction\n",
        "yhat = model.predict(x)\n",
        "print(\"Result based on\",n,\"days:\",yhat[-1])\n",
        "print(\"==============================\")\n",
        "if (yhat[-1]>0.5):\n",
        "  print(\"BUY\")\n",
        "else:\n",
        "  print(\"Do nothing\")"
      ],
      "execution_count": 51,
      "outputs": [
        {
          "output_type": "stream",
          "text": [
            "       var1(t)     var2(t)     var3(t)  ...      var5(t)     var6(t)  var7(t)\n",
            "1   139.669998  133.589996  133.800003  ...  120529500.0  136.665771      1.0\n",
            "2   139.850006  135.020004  136.279999  ...  114459400.0  138.862503      1.0\n",
            "3   145.089996  136.539993  143.070007  ...  157611700.0  142.706757      1.0\n",
            "4   144.300003  141.369995  143.600006  ...   98390600.0  142.946396      1.0\n",
            "5   144.300003  140.410004  143.429993  ...  140843800.0  141.848038      0.0\n",
            "6   141.990005  136.699997  139.520004  ...  142621100.0  136.885452      0.0\n",
            "7   136.740005  130.210007  135.830002  ...  177180600.0  131.763107      0.0\n",
            "8   135.380005  130.929993  133.750000  ...  106239800.0  133.939850      1.0\n",
            "9   136.309998  134.610001  135.729996  ...   83305400.0  134.788589      1.0\n",
            "10  135.770004  133.610001  135.759995  ...   89880900.0  133.740158      0.0\n",
            "11  137.399994  134.589996  136.300003  ...   84183100.0  137.184998      1.0\n",
            "12  137.419998  135.860001  137.350006  ...   75524000.0  136.759995      0.0\n",
            "13  136.960007  134.919998  136.029999  ...   71297200.0  136.910004      1.0\n",
            "14  137.880005  135.850006  136.619995  ...   76774200.0  136.009995      0.0\n",
            "15  136.990005  134.399994  136.479996  ...   73046600.0  135.389999      0.0\n",
            "16  136.389999  133.770004  135.899994  ...   64154400.0  135.130005      0.0\n",
            "17  135.529999  133.690002  134.350006  ...   60029300.0  135.369995      1.0\n",
            "18  136.009995  132.789993  135.490005  ...   80576300.0  133.190002      0.0\n",
            "19  132.220001  129.470001  131.250000  ...   97918500.0  130.839996      0.0\n",
            "20  130.000000  127.410004  129.199997  ...   96856700.0  129.710007      0.0\n",
            "21  130.710007  128.800003  130.240005  ...   87668800.0  129.869995      1.0\n",
            "22  129.720001  125.599998  128.009995  ...  103916400.0  126.000000      0.0\n",
            "23  126.709999  118.389999  123.760002  ...  158273000.0  125.860001      0.0\n",
            "24  125.559998  122.230003  124.940002  ...  111039900.0  125.349998      0.0\n",
            "25  126.459999  120.540001  124.680000  ...  148199500.0  120.989998      0.0\n",
            "26  124.849998  121.199997  122.589996  ...  164320000.0  121.260002      1.0\n",
            "27  127.930000  122.790001  123.750000  ...  115998300.0  127.790001      1.0\n",
            "28  128.720001  125.010002  128.410004  ...  102015300.0  125.120003      0.0\n",
            "29  125.709999  121.839996  124.809998  ...  112430400.0  122.059998      0.0\n",
            "30  123.599998  118.620003  121.750000  ...  177275300.0  120.129997      0.0\n",
            "31  121.940002  117.570000  120.980003  ...  153590400.0  121.419998      1.0\n",
            "32  121.000000  116.209999  120.930000  ...  153918600.0  116.360001      0.0\n",
            "33  122.059998  118.790001  119.029999  ...  129159600.0  121.089996      1.0\n",
            "34  122.169998  119.449997  121.690002  ...  111760400.0  119.980003      0.0\n",
            "35  123.209999  121.260002  122.540001  ...  102753600.0  121.959999      1.0\n",
            "36  121.169998  119.160004  120.400002  ...   87963400.0  121.029999      0.0\n",
            "37  124.000000  120.419998  121.410004  ...   92403800.0  123.989998      1.0\n",
            "38  127.220001  124.720001  125.699997  ...  114740000.0  125.570000      1.0\n",
            "39  125.860001  122.339996  124.050003  ...  111437500.0  124.760002      0.0\n",
            "40  123.180000  120.320000  122.879997  ...  121229700.0  120.529999      0.0\n",
            "41  121.430000  119.680000  119.900002  ...  185023200.0  119.989998      0.0\n",
            "42  123.870003  120.260002  120.330002  ...  111912300.0  123.389999      1.0\n",
            "43  124.239998  122.139999  123.330002  ...   95467100.0  122.540001      0.0\n",
            "44  122.900002  120.070000  122.820000  ...   88530500.0  120.089996      0.0\n",
            "45  121.660004  119.000000  119.540001  ...   98844700.0  120.589996      1.0\n",
            "46  121.480003  118.919998  120.349998  ...   93958900.0  121.209999      1.0\n",
            "47  122.580002  120.730003  121.650002  ...   80819200.0  121.389999      1.0\n",
            "48  120.400002  118.860001  120.110001  ...   85671900.0  119.900002      0.0\n",
            "49  123.519997  121.150002  121.650002  ...  118323800.0  122.150002      1.0\n",
            "50  124.180000  122.489998  123.660004  ...   74957400.0  123.000000      1.0\n",
            "\n",
            "[50 rows x 7 columns]\n",
            "Result based on 51 days: [0.6096146]\n",
            "==============================\n",
            "BUY\n"
          ],
          "name": "stdout"
        }
      ]
    },
    {
      "cell_type": "code",
      "metadata": {
        "id": "r_irte-tlsop"
      },
      "source": [
        ""
      ],
      "execution_count": 51,
      "outputs": []
    }
  ]
}