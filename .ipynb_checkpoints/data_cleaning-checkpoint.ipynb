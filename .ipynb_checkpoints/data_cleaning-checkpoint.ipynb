{
 "cells": [
  {
   "cell_type": "markdown",
   "metadata": {
    "id": "iQ5LWZFBwsCy"
   },
   "source": [
    "Data Cleaning of 5 indexes data"
   ]
  },
  {
   "cell_type": "code",
   "execution_count": 2,
   "metadata": {
    "id": "t583UaD_1IiG"
   },
   "outputs": [],
   "source": [
    "#Import the libraries\n",
    "import pandas as pd\n",
    "import numpy as np\n",
    "import pandas_datareader as web\n",
    "from datetime import datetime\n",
    "import matplotlib.pyplot as plt\n",
    "plt.style.use('fivethirtyeight')"
   ]
  },
  {
   "cell_type": "code",
   "execution_count": 3,
   "metadata": {
    "id": "9oL4Utk12e2H"
   },
   "outputs": [],
   "source": [
    "#Get the stock quote\n",
    "#US\n",
    "sp500 = web.DataReader('^GSPC', data_source = 'yahoo', start = '1990-01-01', end ='2021-01-14')\n",
    "#Singapore\n",
    "#HK\n",
    "#Japan\n",
    "#Shanghai\n",
    "sti = web.DataReader('ES3.SI', data_source = 'yahoo', start = '1990-01-10', end ='2021-01-14')\n",
    "#STI Data starts from 2008 10 Jan\n",
    "hangseng = web.DataReader('^HSI', data_source = 'yahoo', start = '1990-01-01', end ='2021-01-14')\n",
    "nikkei = web.DataReader('^N225', data_source = 'yahoo', start = '1990-01-01', end ='2021-01-14')\n",
    "sse = web.DataReader('000001.SS', data_source = 'yahoo', start = '1990-01-01', end ='2021-01-14')\n"
   ]
  },
  {
   "cell_type": "code",
   "execution_count": null,
   "metadata": {
    "id": "_cwBe_TT1Ogy"
   },
   "outputs": [],
   "source": [
    "#Currency exchange rate\n",
    "#default currency will be in USD\n",
    "#1yuan = 0.15usd\n",
    "#1sgd = 0.75usd\n",
    "#1hkd = 0.13usd\n",
    "#1yen = 0.0096usd\n",
    "#Only applied to High Low Open Close Adj_Close\n",
    "#sp500 = sp500[['High', 'Low', 'Open', 'Close', 'Adj Close']]\n",
    "\n",
    "#sse = sse[['High', 'Low', 'Open', 'Close', 'Adj Close']] * 0.15\n",
    "#sti = sti[['High', 'Low', 'Open', 'Close', 'Adj Close']]*0.75\n",
    "#hangseng = hangseng[['High', 'Low', 'Open', 'Close', 'Adj Close']]*0.13\n",
    "#nikkei = nikkei[['High', 'Low', 'Open', 'Close', 'Adj Close']]*0.0096\n",
    "#NOT NEEDED AS WE LOOKING AT PERCENTAGE CHANGE"
   ]
  },
  {
   "cell_type": "markdown",
   "metadata": {
    "id": "1BSwg7SHs26t"
   },
   "source": [
    "3 Additional Columns\n",
    "1. Open close % change\n",
    "2. High Low % change\n",
    "3. Adj close Difference between 2 days"
   ]
  },
  {
   "cell_type": "code",
   "execution_count": 4,
   "metadata": {
    "colab": {
     "base_uri": "https://localhost:8080/",
     "height": 436
    },
    "id": "jRRrbV-tFZe_",
    "outputId": "c591c472-614e-4891-dbd8-8c1341e76e37"
   },
   "outputs": [
    {
     "data": {
      "text/html": [
       "<div>\n",
       "<style scoped>\n",
       "    .dataframe tbody tr th:only-of-type {\n",
       "        vertical-align: middle;\n",
       "    }\n",
       "\n",
       "    .dataframe tbody tr th {\n",
       "        vertical-align: top;\n",
       "    }\n",
       "\n",
       "    .dataframe thead th {\n",
       "        text-align: right;\n",
       "    }\n",
       "</style>\n",
       "<table border=\"1\" class=\"dataframe\">\n",
       "  <thead>\n",
       "    <tr style=\"text-align: right;\">\n",
       "      <th></th>\n",
       "      <th>SP500 Adj Close Diff</th>\n",
       "      <th>SP500 high-low % change</th>\n",
       "      <th>SP500 open-close % change</th>\n",
       "    </tr>\n",
       "    <tr>\n",
       "      <th>Date</th>\n",
       "      <th></th>\n",
       "      <th></th>\n",
       "      <th></th>\n",
       "    </tr>\n",
       "  </thead>\n",
       "  <tbody>\n",
       "    <tr>\n",
       "      <th>1990-01-02</th>\n",
       "      <td>NaN</td>\n",
       "      <td>2.190463</td>\n",
       "      <td>1.779855</td>\n",
       "    </tr>\n",
       "    <tr>\n",
       "      <th>1990-01-03</th>\n",
       "      <td>-0.259224</td>\n",
       "      <td>0.754417</td>\n",
       "      <td>-0.258554</td>\n",
       "    </tr>\n",
       "    <tr>\n",
       "      <th>1990-01-04</th>\n",
       "      <td>-0.868782</td>\n",
       "      <td>1.663406</td>\n",
       "      <td>-0.861299</td>\n",
       "    </tr>\n",
       "    <tr>\n",
       "      <th>1990-01-05</th>\n",
       "      <td>-0.985236</td>\n",
       "      <td>1.229545</td>\n",
       "      <td>-0.975624</td>\n",
       "    </tr>\n",
       "    <tr>\n",
       "      <th>1990-01-08</th>\n",
       "      <td>0.449418</td>\n",
       "      <td>1.055509</td>\n",
       "      <td>0.451447</td>\n",
       "    </tr>\n",
       "    <tr>\n",
       "      <th>...</th>\n",
       "      <td>...</td>\n",
       "      <td>...</td>\n",
       "      <td>...</td>\n",
       "    </tr>\n",
       "    <tr>\n",
       "      <th>2021-01-08</th>\n",
       "      <td>0.546187</td>\n",
       "      <td>1.138858</td>\n",
       "      <td>0.252418</td>\n",
       "    </tr>\n",
       "    <tr>\n",
       "      <th>2021-01-11</th>\n",
       "      <td>-0.659800</td>\n",
       "      <td>0.761149</td>\n",
       "      <td>-0.092812</td>\n",
       "    </tr>\n",
       "    <tr>\n",
       "      <th>2021-01-12</th>\n",
       "      <td>0.041562</td>\n",
       "      <td>0.907452</td>\n",
       "      <td>-0.011316</td>\n",
       "    </tr>\n",
       "    <tr>\n",
       "      <th>2021-01-13</th>\n",
       "      <td>0.227047</td>\n",
       "      <td>0.777000</td>\n",
       "      <td>0.200149</td>\n",
       "    </tr>\n",
       "    <tr>\n",
       "      <th>2021-01-14</th>\n",
       "      <td>-0.376759</td>\n",
       "      <td>0.810470</td>\n",
       "      <td>-0.509569</td>\n",
       "    </tr>\n",
       "  </tbody>\n",
       "</table>\n",
       "<p>7821 rows × 3 columns</p>\n",
       "</div>"
      ],
      "text/plain": [
       "            SP500 Adj Close Diff  SP500 high-low % change  \\\n",
       "Date                                                        \n",
       "1990-01-02                   NaN                 2.190463   \n",
       "1990-01-03             -0.259224                 0.754417   \n",
       "1990-01-04             -0.868782                 1.663406   \n",
       "1990-01-05             -0.985236                 1.229545   \n",
       "1990-01-08              0.449418                 1.055509   \n",
       "...                          ...                      ...   \n",
       "2021-01-08              0.546187                 1.138858   \n",
       "2021-01-11             -0.659800                 0.761149   \n",
       "2021-01-12              0.041562                 0.907452   \n",
       "2021-01-13              0.227047                 0.777000   \n",
       "2021-01-14             -0.376759                 0.810470   \n",
       "\n",
       "            SP500 open-close % change  \n",
       "Date                                   \n",
       "1990-01-02                   1.779855  \n",
       "1990-01-03                  -0.258554  \n",
       "1990-01-04                  -0.861299  \n",
       "1990-01-05                  -0.975624  \n",
       "1990-01-08                   0.451447  \n",
       "...                               ...  \n",
       "2021-01-08                   0.252418  \n",
       "2021-01-11                  -0.092812  \n",
       "2021-01-12                  -0.011316  \n",
       "2021-01-13                   0.200149  \n",
       "2021-01-14                  -0.509569  \n",
       "\n",
       "[7821 rows x 3 columns]"
      ]
     },
     "execution_count": 4,
     "metadata": {},
     "output_type": "execute_result"
    }
   ],
   "source": [
    "sti[\"STI open-close % change\"] = (sti[\"Adj Close\"] - sti[\"Open\"]) / sti[\"Open\"] * 100\n",
    "sti[\"STI high-low % change\"] = (sti[\"High\"] - sti[\"Low\"]) / sti[\"Low\"] * 100\n",
    "sti['STI Adj Close Diff'] = (sti['Adj Close'].diff())/sti[\"Adj Close\"] * 100\n",
    "new_sti = sti[['STI Adj Close Diff',\"STI high-low % change\",\"STI open-close % change\"]]\n",
    "\n",
    "hangseng[\"HS open-close % change\"] = (hangseng[\"Adj Close\"] - hangseng[\"Open\"]) / hangseng[\"Open\"] * 100\n",
    "hangseng[\"HS high-low % change\"] = (hangseng[\"High\"] - hangseng[\"Low\"]) / hangseng[\"Low\"] * 100\n",
    "hangseng['HS Adj Close Diff'] =(hangseng['Adj Close'].diff())/hangseng[\"Adj Close\"] * 100\n",
    "\n",
    "new_hs = hangseng[['HS Adj Close Diff',\"HS high-low % change\",\"HS open-close % change\"]]\n",
    "\n",
    "\n",
    "sp500[\"SP500 open-close % change\"] = (sp500[\"Adj Close\"] - sp500[\"Open\"]) / sp500[\"Open\"] * 100\n",
    "sp500[\"SP500 high-low % change\"] = (sp500[\"High\"] - sp500[\"Low\"]) / sp500[\"Low\"] * 100\n",
    "sp500['SP500 Adj Close Diff'] =(sp500['Adj Close'].diff())/sp500[\"Adj Close\"] * 100\n",
    "\n",
    "new_sp500 = sp500[['SP500 Adj Close Diff',\"SP500 high-low % change\",\"SP500 open-close % change\"]]\n",
    "\n",
    "\n",
    "sse[\"SSE open-close % change\"] = (sse[\"Adj Close\"] - sse[\"Open\"]) / sse[\"Open\"] * 100\n",
    "sse[\"SSE high-low % change\"] = (sse[\"High\"] - sse[\"Low\"]) / sse[\"Low\"] * 100\n",
    "sse['SSE Adj Close Diff'] = (sse['Adj Close'].diff())/sse[\"Adj Close\"] * 100\n",
    "\n",
    "new_sse = sse[['SSE Adj Close Diff',\"SSE high-low % change\",\"SSE open-close % change\"]]\n",
    "\n",
    "\n",
    "nikkei[\"NIKKEI open-close % change\"] = (nikkei[\"Adj Close\"] - nikkei[\"Open\"]) / nikkei[\"Open\"] * 100\n",
    "nikkei[\"NIKKEI high-low % change\"] = (nikkei[\"High\"] - nikkei[\"Low\"]) / nikkei[\"Low\"] * 100\n",
    "nikkei['NIKKEI Adj Close Diff'] = (nikkei['Adj Close'].diff())/nikkei[\"Adj Close\"] * 100\n",
    "\n",
    "new_nikkei = nikkei[['NIKKEI Adj Close Diff',\"NIKKEI high-low % change\",\"NIKKEI open-close % change\"]]\n",
    "\n",
    "new_sp500"
   ]
  },
  {
   "cell_type": "code",
   "execution_count": 8,
   "metadata": {
    "id": "ojF2yH9ls0M7"
   },
   "outputs": [],
   "source": [
    "#df_3_merge=pd.merge(new_sse,new_nikkei,new_hs, how='inner', left_index=True, right_index=True)\n",
    "df_3_merge = pd.concat([new_hs,new_nikkei,new_sse,new_sp500], join='inner', axis=1)\n",
    "df_4_merge = pd.concat([new_hs,new_nikkei,new_sse,new_sti,new_sp500], join='inner', axis=1)\n",
    "three_sp500 = df_3_merge[['SP500 Adj Close Diff','SP500 high-low % change', 'SP500 open-close % change']]\n",
    "#download the clean data as csv\n",
    "df_4_merge.to_csv('data_4_indexes.csv', index = False)\n",
    "df_3_merge.to_csv('data_3_indexes.csv', index = False)\n"
   ]
  },
  {
   "cell_type": "markdown",
   "metadata": {
    "id": "bXnCCLs5HqS0"
   },
   "source": [
    "Adjusted close = amends a stock's closing price to reflect that stock's value after accounting for any corporate actions.\n",
    "actors in corporate actions, such as stock splits, dividends, and rights offerings.\n",
    "The adjusted closing price can obscure the impact of key nominal prices and stock splits on prices in the short term."
   ]
  },
  {
   "cell_type": "code",
   "execution_count": null,
   "metadata": {
    "id": "cbYchGbW2Qtb"
   },
   "outputs": [],
   "source": []
  }
 ],
 "metadata": {
  "accelerator": "GPU",
  "colab": {
   "name": "data_cleaning.ipynb",
   "provenance": []
  },
  "kernelspec": {
   "display_name": "Python 3",
   "language": "python",
   "name": "python3"
  },
  "language_info": {
   "codemirror_mode": {
    "name": "ipython",
    "version": 3
   },
   "file_extension": ".py",
   "mimetype": "text/x-python",
   "name": "python",
   "nbconvert_exporter": "python",
   "pygments_lexer": "ipython3",
   "version": "3.9.0"
  }
 },
 "nbformat": 4,
 "nbformat_minor": 1
}
